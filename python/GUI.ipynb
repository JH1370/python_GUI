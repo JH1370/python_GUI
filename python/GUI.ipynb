{
 "cells": [
  {
   "cell_type": "markdown",
   "id": "91ef21e4",
   "metadata": {},
   "source": [
    "# 창 생성"
   ]
  },
  {
   "cell_type": "code",
   "execution_count": 3,
   "id": "05a18457",
   "metadata": {},
   "outputs": [
    {
     "ename": "SystemExit",
     "evalue": "0",
     "output_type": "error",
     "traceback": [
      "An exception has occurred, use %tb to see the full traceback.\n",
      "\u001b[1;31mSystemExit\u001b[0m\u001b[1;31m:\u001b[0m 0\n"
     ]
    },
    {
     "name": "stderr",
     "output_type": "stream",
     "text": [
      "C:\\Users\\cltn2\\anaconda3\\envs\\label\\lib\\site-packages\\IPython\\core\\interactiveshell.py:3351: UserWarning: To exit: use 'exit', 'quit', or Ctrl-D.\n",
      "  warn(\"To exit: use 'exit', 'quit', or Ctrl-D.\", stacklevel=1)\n"
     ]
    }
   ],
   "source": [
    "import sys\n",
    "from PyQt5.QtWidgets import QApplication, QWidget\n",
    "\n",
    "\n",
    "class MyApp(QWidget):\n",
    "\n",
    "    def __init__(self):\n",
    "        super().__init__()\n",
    "        self.initUI()\n",
    "\n",
    "    def initUI(self):\n",
    "        self.setWindowTitle('My First Application') # 창의 제목\n",
    "        self.move(300, 300)                         # 스크린 크기\n",
    "        self.resize(400, 200)                       # 위젯 크기\n",
    "        self.show()                                 # 위젯을 스크린에 보여줌\n",
    "\n",
    "\n",
    "if __name__ == '__main__':\n",
    "   app = QApplication(sys.argv)\n",
    "   ex = MyApp()\n",
    "   sys.exit(app.exec_())"
   ]
  },
  {
   "cell_type": "markdown",
   "id": "cdb5fde5",
   "metadata": {},
   "source": [
    "# 타이틀 이미지 및 텍스트 표기"
   ]
  },
  {
   "cell_type": "code",
   "execution_count": 1,
   "id": "3b71faa1",
   "metadata": {},
   "outputs": [
    {
     "ename": "SystemExit",
     "evalue": "0",
     "output_type": "error",
     "traceback": [
      "An exception has occurred, use %tb to see the full traceback.\n",
      "\u001b[1;31mSystemExit\u001b[0m\u001b[1;31m:\u001b[0m 0\n"
     ]
    },
    {
     "name": "stderr",
     "output_type": "stream",
     "text": [
      "C:\\Users\\cltn2\\anaconda3\\envs\\label\\lib\\site-packages\\IPython\\core\\interactiveshell.py:3351: UserWarning: To exit: use 'exit', 'quit', or Ctrl-D.\n",
      "  warn(\"To exit: use 'exit', 'quit', or Ctrl-D.\", stacklevel=1)\n"
     ]
    }
   ],
   "source": [
    "import sys\n",
    "from PyQt5.QtWidgets import QApplication, QWidget\n",
    "from PyQt5.QtGui import QIcon\n",
    "\n",
    "\n",
    "class MyApp(QWidget):\n",
    "\n",
    "    def __init__(self):\n",
    "        super().__init__()\n",
    "        self.initUI()\n",
    "\n",
    "    def initUI(self):\n",
    "        self.setWindowTitle('Icon')                 # 창의 제목\n",
    "        self.setWindowIcon(QIcon('picture/web.png'))# 아이콘 그림 표기\n",
    "        self.setGeometry(300, 300, 300, 200)        # 창의 위치와 크기 설정(위치x, 위치y, 너비, 높이)\n",
    "        self.show()                                 # 위젯을 스크린에 보여줌\n",
    "\n",
    "\n",
    "if __name__ == '__main__':\n",
    "   app = QApplication(sys.argv)\n",
    "   ex = MyApp()\n",
    "   sys.exit(app.exec_())"
   ]
  },
  {
   "cell_type": "markdown",
   "id": "beeb4cfb",
   "metadata": {},
   "source": [
    "# 창 닫기"
   ]
  },
  {
   "cell_type": "code",
   "execution_count": 1,
   "id": "cc5debf5",
   "metadata": {},
   "outputs": [
    {
     "ename": "SystemExit",
     "evalue": "0",
     "output_type": "error",
     "traceback": [
      "An exception has occurred, use %tb to see the full traceback.\n",
      "\u001b[1;31mSystemExit\u001b[0m\u001b[1;31m:\u001b[0m 0\n"
     ]
    },
    {
     "name": "stderr",
     "output_type": "stream",
     "text": [
      "C:\\Users\\cltn2\\anaconda3\\envs\\label\\lib\\site-packages\\IPython\\core\\interactiveshell.py:3351: UserWarning: To exit: use 'exit', 'quit', or Ctrl-D.\n",
      "  warn(\"To exit: use 'exit', 'quit', or Ctrl-D.\", stacklevel=1)\n"
     ]
    }
   ],
   "source": [
    "import sys\n",
    "from PyQt5.QtWidgets import QApplication, QWidget, QPushButton\n",
    "from PyQt5.QtCore import QCoreApplication\n",
    "\n",
    "\n",
    "class MyApp(QWidget):\n",
    "\n",
    "    def __init__(self):\n",
    "        super().__init__()\n",
    "        self.initUI()\n",
    "\n",
    "    def initUI(self):\n",
    "        btn = QPushButton('quit', self)\n",
    "        btn.move(50, 50)\n",
    "        btn.resize(btn.sizeHint())\n",
    "        btn.clicked.connect(QCoreApplication.instance().quit)\n",
    "        \n",
    "        \n",
    "        self.setWindowTitle('Quit Button')                 # 창의 제목\n",
    "        self.setGeometry(300, 300, 300, 200)        # 창의 위치와 크기 설정(위치x, 위치y, 너비, 높이)\n",
    "        self.show()                                 # 위젯을 스크린에 보여줌\n",
    "\n",
    "\n",
    "if __name__ == '__main__':\n",
    "   app = QApplication(sys.argv)\n",
    "   ex = MyApp()\n",
    "   sys.exit(app.exec_())"
   ]
  },
  {
   "cell_type": "markdown",
   "id": "cc7dd6bd",
   "metadata": {},
   "source": [
    "# 툴팁"
   ]
  },
  {
   "cell_type": "code",
   "execution_count": 1,
   "id": "2bf08b15",
   "metadata": {},
   "outputs": [
    {
     "ename": "SystemExit",
     "evalue": "0",
     "output_type": "error",
     "traceback": [
      "An exception has occurred, use %tb to see the full traceback.\n",
      "\u001b[1;31mSystemExit\u001b[0m\u001b[1;31m:\u001b[0m 0\n"
     ]
    },
    {
     "name": "stderr",
     "output_type": "stream",
     "text": [
      "C:\\Users\\cltn2\\anaconda3\\envs\\label\\lib\\site-packages\\IPython\\core\\interactiveshell.py:3351: UserWarning: To exit: use 'exit', 'quit', or Ctrl-D.\n",
      "  warn(\"To exit: use 'exit', 'quit', or Ctrl-D.\", stacklevel=1)\n"
     ]
    }
   ],
   "source": [
    "import sys\n",
    "from PyQt5.QtWidgets import QApplication, QWidget, QPushButton, QToolTip\n",
    "from PyQt5.QtGui import QFont\n",
    "\n",
    "\n",
    "class MyApp(QWidget):\n",
    "\n",
    "    def __init__(self):\n",
    "        super().__init__()\n",
    "        self.initUI()\n",
    "\n",
    "    def initUI(self):\n",
    "        QToolTip.setFont(QFont('SansSerif', 10))\n",
    "        self.setToolTip('this is a <b>QWidget</b> widget')\n",
    "        \n",
    "        btn = QPushButton('Button', self)\n",
    "        btn.setToolTip('This is a <b>QPushButton</b> widget')\n",
    "        btn.move(50, 50)\n",
    "        btn.resize(btn.sizeHint())\n",
    "        \n",
    "        self.setWindowTitle('Tooltips')                 # 창의 제목\n",
    "        self.setGeometry(300, 300, 300, 200)        # 창의 위치와 크기 설정(위치x, 위치y, 너비, 높이)\n",
    "        self.show()                                 # 위젯을 스크린에 보여줌\n",
    "\n",
    "\n",
    "if __name__ == '__main__':\n",
    "   app = QApplication(sys.argv)\n",
    "   ex = MyApp()\n",
    "   sys.exit(app.exec_())"
   ]
  },
  {
   "cell_type": "markdown",
   "id": "8d86cd74",
   "metadata": {},
   "source": [
    "# 상태바 만들기"
   ]
  },
  {
   "cell_type": "code",
   "execution_count": 2,
   "id": "3af19ae2",
   "metadata": {},
   "outputs": [
    {
     "ename": "SystemExit",
     "evalue": "0",
     "output_type": "error",
     "traceback": [
      "An exception has occurred, use %tb to see the full traceback.\n",
      "\u001b[1;31mSystemExit\u001b[0m\u001b[1;31m:\u001b[0m 0\n"
     ]
    },
    {
     "name": "stderr",
     "output_type": "stream",
     "text": [
      "C:\\Users\\cltn2\\anaconda3\\envs\\label\\lib\\site-packages\\IPython\\core\\interactiveshell.py:3351: UserWarning: To exit: use 'exit', 'quit', or Ctrl-D.\n",
      "  warn(\"To exit: use 'exit', 'quit', or Ctrl-D.\", stacklevel=1)\n"
     ]
    }
   ],
   "source": [
    "import sys\n",
    "from PyQt5.QtWidgets import QApplication, QMainWindow\n",
    "\n",
    "\n",
    "class MyApp(QMainWindow):\n",
    "\n",
    "    def __init__(self):\n",
    "        super().__init__()\n",
    "        self.initUI()\n",
    "\n",
    "    def initUI(self):\n",
    "        self.statusBar().showMessage('Ready')        # 위젯을 스크린에 보여줌\n",
    "        \n",
    "        self.setWindowTitle('statusbar')\n",
    "        self.setGeometry(300, 300, 300, 200)\n",
    "        self.show()\n",
    "\n",
    "\n",
    "if __name__ == '__main__':\n",
    "   app = QApplication(sys.argv)\n",
    "   ex = MyApp()\n",
    "   sys.exit(app.exec_())"
   ]
  },
  {
   "cell_type": "markdown",
   "id": "024eba07",
   "metadata": {},
   "source": [
    "# 메뉴바 만들기"
   ]
  },
  {
   "cell_type": "code",
   "execution_count": 2,
   "id": "6521bd00",
   "metadata": {},
   "outputs": [
    {
     "ename": "SystemExit",
     "evalue": "0",
     "output_type": "error",
     "traceback": [
      "An exception has occurred, use %tb to see the full traceback.\n",
      "\u001b[1;31mSystemExit\u001b[0m\u001b[1;31m:\u001b[0m 0\n"
     ]
    },
    {
     "name": "stderr",
     "output_type": "stream",
     "text": [
      "C:\\Users\\cltn2\\anaconda3\\envs\\label\\lib\\site-packages\\IPython\\core\\interactiveshell.py:3351: UserWarning: To exit: use 'exit', 'quit', or Ctrl-D.\n",
      "  warn(\"To exit: use 'exit', 'quit', or Ctrl-D.\", stacklevel=1)\n"
     ]
    }
   ],
   "source": [
    "import sys\n",
    "from PyQt5.QtWidgets import QApplication, QMainWindow, QAction, qApp\n",
    "from PyQt5.QtGui import QIcon\n",
    "\n",
    "class MyApp(QMainWindow):\n",
    "\n",
    "    def __init__(self):\n",
    "        super().__init__()\n",
    "        self.initUI()\n",
    "\n",
    "    def initUI(self):\n",
    "        exitAction = QAction(QIcon('exit.png'), 'Exit', self)\n",
    "        exitAction.setShortcut('Ctrl+Q')\n",
    "        exitAction.setStatusTip('Exit application')\n",
    "        exitAction.triggered.connect(qApp.quit)\n",
    "        \n",
    "        self.statusBar()\n",
    "        \n",
    "        menubar = self.menuBar()\n",
    "        menubar.setNativeMenuBar(False)\n",
    "        filemenu = menubar.addMenu('&File')\n",
    "        filemenu.addAction(exitAction)\n",
    "        \n",
    "        self.toolbar = self.addToolBar('Exit')\n",
    "        self.toolbar.addAction(exitAction)\n",
    "        \n",
    "        self.setWindowTitle('Menubar')\n",
    "        self.setGeometry(300, 300, 300, 200)\n",
    "        self.show()\n",
    "        \n",
    "if __name__ == '__main__':\n",
    "    app = QApplication(sys.argv)\n",
    "    ex = MyApp()\n",
    "    sys.exit(app.exec_())"
   ]
  },
  {
   "cell_type": "markdown",
   "id": "89b7ff9c",
   "metadata": {},
   "source": [
    "# 툴바 만들기"
   ]
  },
  {
   "cell_type": "code",
   "execution_count": null,
   "id": "a5b3e237",
   "metadata": {},
   "outputs": [],
   "source": [
    "import sys\n",
    "from PyQt5.QtWidgets import QApplication, QMainWindow, QAction, qApp\n",
    "from PyQt5.QtGui import QIcon\n",
    "\n",
    "class MyApp(QMainWindow):\n",
    "\n",
    "    def __init__(self):\n",
    "        super().__init__()\n",
    "        self.initUI()\n",
    "\n",
    "    def initUI(self):\n",
    "        exitAction = QAction(QIcon('picture/exit.png'), 'Exit', self)\n",
    "        exitAction.setShortcut('Ctrl+Q')\n",
    "        exitAction.setStatusTip('Exit application')\n",
    "        exitAction.triggered.connect(qApp.quit)\n",
    "        \n",
    "        self.statusBar()\n",
    "        \n",
    "        self.toolbar = self.addToolBar('Exit')\n",
    "        self.toolbar.addAction(exitAction)\n",
    "        \n",
    "      \n",
    "        self.setWindowTitle('Toolbar')\n",
    "        self.setGeometry(300, 300, 300, 200)\n",
    "        self.show()\n",
    "        \n",
    "if __name__ == '__main__':\n",
    "    app = QApplication(sys.argv)\n",
    "    ex = MyApp()\n",
    "    sys.exit(app.exec_())"
   ]
  },
  {
   "cell_type": "markdown",
   "id": "31393796",
   "metadata": {},
   "source": [
    "# 창을 화면의 가운데로"
   ]
  },
  {
   "cell_type": "code",
   "execution_count": 1,
   "id": "b3431440",
   "metadata": {},
   "outputs": [
    {
     "ename": "SystemExit",
     "evalue": "0",
     "output_type": "error",
     "traceback": [
      "An exception has occurred, use %tb to see the full traceback.\n",
      "\u001b[1;31mSystemExit\u001b[0m\u001b[1;31m:\u001b[0m 0\n"
     ]
    },
    {
     "name": "stderr",
     "output_type": "stream",
     "text": [
      "C:\\Users\\cltn2\\anaconda3\\envs\\label\\lib\\site-packages\\IPython\\core\\interactiveshell.py:3351: UserWarning: To exit: use 'exit', 'quit', or Ctrl-D.\n",
      "  warn(\"To exit: use 'exit', 'quit', or Ctrl-D.\", stacklevel=1)\n"
     ]
    }
   ],
   "source": [
    "import sys\n",
    "from PyQt5.QtWidgets import QApplication, QWidget, QDesktopWidget\n",
    "\n",
    "\n",
    "class MyApp(QWidget):\n",
    "\n",
    "    def __init__(self):\n",
    "        super().__init__()\n",
    "        self.initUI()\n",
    "\n",
    "    def initUI(self):\n",
    "        self.setWindowTitle('Centering')\n",
    "        self.resize(500, 350)\n",
    "        self.center()\n",
    "        self.show()\n",
    "        \n",
    "    def center(self):\n",
    "        qr = self.frameGeometry()\n",
    "        cp = QDesktopWidget().availableGeometry().center()\n",
    "        qr.moveCenter(cp)\n",
    "        self.move(qr.topLeft())\n",
    "        \n",
    "if __name__ == '__main__':\n",
    "    app = QApplication(sys.argv)\n",
    "    ex = MyApp()\n",
    "    sys.exit(app.exec_())"
   ]
  },
  {
   "cell_type": "markdown",
   "id": "53da7eba",
   "metadata": {},
   "source": [
    "# 날짜와 시간 표시하기"
   ]
  },
  {
   "cell_type": "code",
   "execution_count": 2,
   "id": "847331b3",
   "metadata": {},
   "outputs": [
    {
     "name": "stdout",
     "output_type": "stream",
     "text": [
      "화 10 4 2022\n"
     ]
    }
   ],
   "source": [
    "from PyQt5.QtCore import QDate\n",
    "\n",
    "now = QDate.currentDate()\n",
    "print(now.toString())"
   ]
  },
  {
   "cell_type": "code",
   "execution_count": 3,
   "id": "fe94def9",
   "metadata": {},
   "outputs": [
    {
     "name": "stdout",
     "output_type": "stream",
     "text": [
      "4.10.22\n",
      "04.10.2022\n",
      "화.10월.2022\n",
      "2022-10-04\n",
      "2022년 10월 4일 화요일\n"
     ]
    }
   ],
   "source": [
    "from PyQt5.QtCore import QDate, Qt\n",
    "\n",
    "now = QDate.currentDate()\n",
    "print(now.toString('d.M.yy'))\n",
    "print(now.toString('dd.MM.yyyy'))\n",
    "print(now.toString('ddd.MMMM.yyyy'))\n",
    "print(now.toString(Qt.ISODate))\n",
    "print(now.toString(Qt.DefaultLocaleLongDate))"
   ]
  },
  {
   "cell_type": "code",
   "execution_count": 4,
   "id": "33a2bccd",
   "metadata": {},
   "outputs": [
    {
     "name": "stdout",
     "output_type": "stream",
     "text": [
      "13:35:58\n"
     ]
    }
   ],
   "source": [
    "from PyQt5.QtCore import QTime\n",
    "\n",
    "time = QTime.currentTime()\n",
    "print(time.toString())"
   ]
  },
  {
   "cell_type": "code",
   "execution_count": 5,
   "id": "63804c19",
   "metadata": {},
   "outputs": [
    {
     "name": "stdout",
     "output_type": "stream",
     "text": [
      "13.36.2\n",
      "13.36.02\n",
      "13.36.02.304\n",
      "오후 1:36:02\n",
      "오후 1:36\n"
     ]
    }
   ],
   "source": [
    "from PyQt5.QtCore import QTime, Qt\n",
    "\n",
    "time = QTime.currentTime()\n",
    "print(time.toString('h.m.s'))\n",
    "print(time.toString('hh.mm.ss'))\n",
    "print(time.toString('hh.mm.ss.zzz'))\n",
    "print(time.toString(Qt.DefaultLocaleLongDate))\n",
    "print(time.toString(Qt.DefaultLocaleShortDate))"
   ]
  },
  {
   "cell_type": "code",
   "execution_count": 6,
   "id": "fc7b1e28",
   "metadata": {},
   "outputs": [
    {
     "name": "stdout",
     "output_type": "stream",
     "text": [
      "화 10 4 13:36:12 2022\n"
     ]
    }
   ],
   "source": [
    "from PyQt5.QtCore import QDateTime\n",
    "\n",
    "datetime = QDateTime.currentDateTime()\n",
    "print(datetime.toString())"
   ]
  },
  {
   "cell_type": "code",
   "execution_count": 7,
   "id": "ab132d04",
   "metadata": {},
   "outputs": [
    {
     "name": "stdout",
     "output_type": "stream",
     "text": [
      "4.10.22 13:36:23\n",
      "04.10.2022, 13:36:23\n",
      "2022년 10월 4일 화요일 오후 1:36:23\n",
      "2022-10-04 오후 1:36\n"
     ]
    }
   ],
   "source": [
    "from PyQt5.QtCore import QDateTime, Qt\n",
    "\n",
    "datetime = QDateTime.currentDateTime()\n",
    "print(datetime.toString('d.M.yy hh:mm:ss'))\n",
    "print(datetime.toString('dd.MM.yyyy, hh:mm:ss'))\n",
    "print(datetime.toString(Qt.DefaultLocaleLongDate))\n",
    "print(datetime.toString(Qt.DefaultLocaleShortDate))"
   ]
  },
  {
   "cell_type": "code",
   "execution_count": 1,
   "id": "259acad8",
   "metadata": {},
   "outputs": [
    {
     "ename": "SystemExit",
     "evalue": "0",
     "output_type": "error",
     "traceback": [
      "An exception has occurred, use %tb to see the full traceback.\n",
      "\u001b[1;31mSystemExit\u001b[0m\u001b[1;31m:\u001b[0m 0\n"
     ]
    },
    {
     "name": "stderr",
     "output_type": "stream",
     "text": [
      "C:\\Users\\cltn2\\anaconda3\\envs\\label\\lib\\site-packages\\IPython\\core\\interactiveshell.py:3351: UserWarning: To exit: use 'exit', 'quit', or Ctrl-D.\n",
      "  warn(\"To exit: use 'exit', 'quit', or Ctrl-D.\", stacklevel=1)\n"
     ]
    }
   ],
   "source": [
    "import sys\n",
    "from PyQt5.QtWidgets import QApplication, QMainWindow\n",
    "from PyQt5.QtCore import QDate, Qt\n",
    "\n",
    "\n",
    "class MyApp(QMainWindow):\n",
    "\n",
    "    def __init__(self):\n",
    "        super().__init__()\n",
    "        self.date = QDate.currentDate()\n",
    "        self.initUI()\n",
    "        \n",
    "    def initUI(self):\n",
    "        self.statusBar().showMessage(self.date.toString(Qt.DefaultLocaleLongDate))\n",
    "        self.setWindowTitle('Date')\n",
    "        self.setGeometry(300, 300, 400, 200)\n",
    "        self.show()\n",
    "        \n",
    "if __name__ == '__main__':\n",
    "    app = QApplication(sys.argv)\n",
    "    ex = MyApp()\n",
    "    sys.exit(app.exec_())"
   ]
  },
  {
   "cell_type": "markdown",
   "id": "826df49a",
   "metadata": {},
   "source": [
    "# 스타일 꾸미기"
   ]
  },
  {
   "cell_type": "code",
   "execution_count": null,
   "id": "b2dc22d9",
   "metadata": {},
   "outputs": [],
   "source": [
    "import sys\n",
    "from PyQt5.QtWidgets import QApplication, QWidget, QLabel, QVBoxLayout\n",
    "\n",
    "\n",
    "class MyApp(QWidget):\n",
    "\n",
    "    def __init__(self):\n",
    "        super().__init__()\n",
    "        self.initUI()\n",
    "\n",
    "    def initUI(self):\n",
    "\n",
    "        lbl_red = QLabel('Red')\n",
    "        lbl_green = QLabel('Green')\n",
    "        lbl_blue = QLabel('Blue')\n",
    "\n",
    "        lbl_red.setStyleSheet(\"color: red;\"\n",
    "                             \"border-style: solid;\"\n",
    "                             \"border-width: 2px;\"\n",
    "                             \"border-color: #FA8072;\"\n",
    "                             \"border-radius: 3px\")\n",
    "        lbl_green.setStyleSheet(\"color: green;\"\n",
    "                               \"background-color: #7FFFD4\")\n",
    "        lbl_blue.setStyleSheet(\"color: blue;\"\n",
    "                              \"background-color: #87CEFA;\"\n",
    "                              \"border-style: dashed;\"\n",
    "                              \"border-width: 3px;\"\n",
    "                              \"border-color: #1E90FF\")\n",
    "\n",
    "        vbox = QVBoxLayout()\n",
    "        vbox.addWidget(lbl_red)\n",
    "        vbox.addWidget(lbl_green)\n",
    "        vbox.addWidget(lbl_blue)\n",
    "\n",
    "        self.setLayout(vbox)\n",
    "\n",
    "        self.setWindowTitle('Stylesheet')\n",
    "        self.setGeometry(300, 300, 300, 200)\n",
    "        self.show()\n",
    "\n",
    "\n",
    "if __name__ == '__main__':\n",
    "    app = QApplication(sys.argv)\n",
    "    ex = MyApp()\n",
    "    sys.exit(app.exec_())"
   ]
  },
  {
   "cell_type": "markdown",
   "id": "f05751d5",
   "metadata": {},
   "source": [
    "# 레이아웃 - 절대적 배치"
   ]
  },
  {
   "cell_type": "code",
   "execution_count": 1,
   "id": "fa2f96dd",
   "metadata": {},
   "outputs": [
    {
     "ename": "SystemExit",
     "evalue": "0",
     "output_type": "error",
     "traceback": [
      "An exception has occurred, use %tb to see the full traceback.\n",
      "\u001b[1;31mSystemExit\u001b[0m\u001b[1;31m:\u001b[0m 0\n"
     ]
    },
    {
     "name": "stderr",
     "output_type": "stream",
     "text": [
      "C:\\Users\\cltn2\\anaconda3\\envs\\label\\lib\\site-packages\\IPython\\core\\interactiveshell.py:3351: UserWarning: To exit: use 'exit', 'quit', or Ctrl-D.\n",
      "  warn(\"To exit: use 'exit', 'quit', or Ctrl-D.\", stacklevel=1)\n"
     ]
    }
   ],
   "source": [
    "import sys\n",
    "from PyQt5.QtWidgets import QApplication, QWidget, QLabel, QPushButton\n",
    "\n",
    "\n",
    "class MyApp(QWidget):\n",
    "\n",
    "    def __init__(self):\n",
    "        super().__init__()\n",
    "        self.initUI()\n",
    "\n",
    "    def initUI(self):\n",
    "        label1 = QLabel('Label1', self)\n",
    "        label1.move(20, 20)\n",
    "        label2 = QLabel('Label2', self)\n",
    "        label2.move(20, 60)\n",
    "\n",
    "        btn1 = QPushButton('Button1', self)\n",
    "        btn1.move(80, 13)\n",
    "        btn2 = QPushButton('Button2', self)\n",
    "        btn2.move(80, 53)\n",
    "\n",
    "        self.setWindowTitle('Absolute Positioning')\n",
    "        self.setGeometry(300, 300, 400, 200)\n",
    "        self.show()\n",
    "\n",
    "\n",
    "if __name__ == '__main__':\n",
    "    app = QApplication(sys.argv)\n",
    "    ex = MyApp()\n",
    "    sys.exit(app.exec_())"
   ]
  },
  {
   "cell_type": "markdown",
   "id": "ee2623cf",
   "metadata": {},
   "source": [
    "# 박스 레이아웃"
   ]
  },
  {
   "cell_type": "code",
   "execution_count": 1,
   "id": "2e7c9a6a",
   "metadata": {},
   "outputs": [
    {
     "ename": "SystemExit",
     "evalue": "0",
     "output_type": "error",
     "traceback": [
      "An exception has occurred, use %tb to see the full traceback.\n",
      "\u001b[1;31mSystemExit\u001b[0m\u001b[1;31m:\u001b[0m 0\n"
     ]
    },
    {
     "name": "stderr",
     "output_type": "stream",
     "text": [
      "C:\\Users\\cltn2\\anaconda3\\envs\\label\\lib\\site-packages\\IPython\\core\\interactiveshell.py:3351: UserWarning: To exit: use 'exit', 'quit', or Ctrl-D.\n",
      "  warn(\"To exit: use 'exit', 'quit', or Ctrl-D.\", stacklevel=1)\n"
     ]
    }
   ],
   "source": [
    "import sys\n",
    "from PyQt5.QtWidgets import QApplication, QWidget, QPushButton, QHBoxLayout, QVBoxLayout\n",
    "\n",
    "\n",
    "class MyApp(QWidget):\n",
    "\n",
    "    def __init__(self):\n",
    "        super().__init__()\n",
    "        self.initUI()\n",
    "\n",
    "    def initUI(self):\n",
    "        okButton = QPushButton('OK')          # OK버튼 생성\n",
    "        cancelButton = QPushButton('Cancel')  # Cancel버튼 생성\n",
    "\n",
    "        # 수평박스를 만들고 두 버튼과 양 쪽 빈 공간 추가\n",
    "        hbox = QHBoxLayout()\n",
    "        hbox.addStretch(1)\n",
    "        hbox.addWidget(okButton)\n",
    "        hbox.addWidget(cancelButton)\n",
    "        hbox.addStretch(1)\n",
    "        \n",
    "        # 수평박스를 수직박스에 삽입(3:1 비율)\n",
    "        vbox = QVBoxLayout()\n",
    "        vbox.addStretch(3)\n",
    "        vbox.addLayout(hbox)\n",
    "        vbox.addStretch(1)\n",
    "        \n",
    "        self.setLayout(vbox)\n",
    "        \n",
    "        self.setWindowTitle('Box Layout')\n",
    "        self.setGeometry(300, 300, 300, 200)\n",
    "        self.show()\n",
    "\n",
    "\n",
    "if __name__ == '__main__':\n",
    "    app = QApplication(sys.argv)\n",
    "    ex = MyApp()\n",
    "    sys.exit(app.exec_())"
   ]
  },
  {
   "cell_type": "markdown",
   "id": "10d4a358",
   "metadata": {},
   "source": [
    "# 그리드 레이아웃"
   ]
  },
  {
   "cell_type": "code",
   "execution_count": null,
   "id": "a77ec6b4",
   "metadata": {},
   "outputs": [],
   "source": [
    "import sys\n",
    "from PyQt5.QtWidgets import (QApplication, QWidget, QGridLayout, QLabel, QLineEdit, QTextEdit)\n",
    "\n",
    "\n",
    "class MyApp(QWidget):\n",
    "\n",
    "    def __init__(self):\n",
    "        super().__init__()\n",
    "        self.initUI()\n",
    "\n",
    "    def initUI(self):\n",
    "        grid = QGridLayout()\n",
    "        self.setLayout(grid)\n",
    "\n",
    "        grid.addWidget(QLabel('Title:'), 0, 0)\n",
    "        grid.addWidget(QLabel('Author:'), 1, 0)\n",
    "        grid.addWidget(QLabel('Review:'), 2, 0)\n",
    "\n",
    "        grid.addWidget(QLineEdit(), 0, 1)\n",
    "        grid.addWidget(QLineEdit(), 1, 1)\n",
    "        grid.addWidget(QTextEdit(), 2, 1)\n",
    "\n",
    "        self.setWindowTitle('QGridLayout')\n",
    "        self.setGeometry(300, 300, 300, 200)\n",
    "        self.show()\n",
    "\n",
    "\n",
    "if __name__ == '__main__':\n",
    "    app = QApplication(sys.argv)\n",
    "    ex = MyApp()\n",
    "    sys.exit(app.exec_())"
   ]
  },
  {
   "cell_type": "markdown",
   "id": "f8888353",
   "metadata": {},
   "source": [
    "# QPushButton"
   ]
  },
  {
   "cell_type": "code",
   "execution_count": null,
   "id": "2d1c42c7",
   "metadata": {},
   "outputs": [],
   "source": [
    "import sys\n",
    "from PyQt5.QtWidgets import QApplication, QWidget, QPushButton, QVBoxLayout\n",
    "\n",
    "\n",
    "class MyApp(QWidget):\n",
    "\n",
    "    def __init__(self):\n",
    "        super().__init__()\n",
    "        self.initUI()\n",
    "\n",
    "    def initUI(self):\n",
    "        btn1 = QPushButton('&Button1', self)\n",
    "        btn1.setCheckable(True)\n",
    "        btn1.toggle()\n",
    "        \n",
    "        btn2 = QPushButton(self)\n",
    "        btn2.setText('Button&2')\n",
    "        \n",
    "        btn3 = QPushButton('Button3', self)\n",
    "        btn3.setEnabled(False)\n",
    "        \n",
    "        vbox = QVBoxLayout()\n",
    "        vbox.addWidget(btn1)\n",
    "        vbox.addWidget(btn2)\n",
    "        vbox.addWidget(btn3)\n",
    "        \n",
    "        self.setLayout(vbox)\n",
    "        self.setWindowTitle('QPushButton')\n",
    "        self.setGeometry(300, 300, 300, 200)\n",
    "        self.show()\n",
    "        \n",
    "if __name__=='__main__':\n",
    "    app = QApplication(sys.argv)\n",
    "    ex = MyApp()\n",
    "    sys.exit(app.exec_())"
   ]
  },
  {
   "cell_type": "markdown",
   "id": "9c6f4a65",
   "metadata": {},
   "source": [
    "# QLabel"
   ]
  },
  {
   "cell_type": "code",
   "execution_count": 1,
   "id": "09152832",
   "metadata": {},
   "outputs": [
    {
     "ename": "SystemExit",
     "evalue": "0",
     "output_type": "error",
     "traceback": [
      "An exception has occurred, use %tb to see the full traceback.\n",
      "\u001b[1;31mSystemExit\u001b[0m\u001b[1;31m:\u001b[0m 0\n"
     ]
    },
    {
     "name": "stderr",
     "output_type": "stream",
     "text": [
      "C:\\Users\\cltn2\\anaconda3\\envs\\label\\lib\\site-packages\\IPython\\core\\interactiveshell.py:3351: UserWarning: To exit: use 'exit', 'quit', or Ctrl-D.\n",
      "  warn(\"To exit: use 'exit', 'quit', or Ctrl-D.\", stacklevel=1)\n"
     ]
    }
   ],
   "source": [
    "import sys\n",
    "from PyQt5.QtWidgets import QApplication, QWidget, QLabel, QVBoxLayout\n",
    "from PyQt5.QtCore import Qt\n",
    "\n",
    "\n",
    "class MyApp(QWidget):\n",
    "\n",
    "    def __init__(self):\n",
    "        super().__init__()\n",
    "        self.initUI()\n",
    "\n",
    "    def initUI(self):\n",
    "        # 라벨1 생성\n",
    "        label1 = QLabel('First Label', self)\n",
    "        # 라벨1 배치 위치(수직 수평 가운데)\n",
    "        label1.setAlignment(Qt.AlignCenter)\n",
    "        \n",
    "        # 라벨2 생성 및 배치 위치(수직 가운데)\n",
    "        label2 = QLabel('Second Label', self)\n",
    "        label2.setAlignment(Qt.AlignVCenter)\n",
    "        \n",
    "        # 폰트 설정(크기)\n",
    "        font1 = label1.font()\n",
    "        font1.setPointSize(20)\n",
    "        \n",
    "        #폰트 설정(종류, 볼드, 크기 디폴트 13)\n",
    "        font2 = label2.font()\n",
    "        font2.setFamily('Times New Roman')\n",
    "        font2.setBold(True)\n",
    "        \n",
    "        label1.setFont(font1)\n",
    "        label2.setFont(font2)\n",
    "        \n",
    "        layout = QVBoxLayout()\n",
    "        layout.addWidget(label1)\n",
    "        layout.addWidget(label2)\n",
    "\n",
    "        self.setLayout(layout)\n",
    "\n",
    "        self.setWindowTitle('QLabel')\n",
    "        self.setGeometry(300, 300, 300, 200)\n",
    "        self.show()\n",
    "\n",
    "\n",
    "if __name__ == '__main__':\n",
    "    app = QApplication(sys.argv)\n",
    "    ex = MyApp()\n",
    "    sys.exit(app.exec_())"
   ]
  },
  {
   "cell_type": "markdown",
   "id": "099f7cad",
   "metadata": {},
   "source": [
    "# QCheckBox"
   ]
  },
  {
   "cell_type": "code",
   "execution_count": 1,
   "id": "f3f8209d",
   "metadata": {},
   "outputs": [
    {
     "ename": "SystemExit",
     "evalue": "0",
     "output_type": "error",
     "traceback": [
      "An exception has occurred, use %tb to see the full traceback.\n",
      "\u001b[1;31mSystemExit\u001b[0m\u001b[1;31m:\u001b[0m 0\n"
     ]
    },
    {
     "name": "stderr",
     "output_type": "stream",
     "text": [
      "C:\\Users\\cltn2\\anaconda3\\envs\\label\\lib\\site-packages\\IPython\\core\\interactiveshell.py:3351: UserWarning: To exit: use 'exit', 'quit', or Ctrl-D.\n",
      "  warn(\"To exit: use 'exit', 'quit', or Ctrl-D.\", stacklevel=1)\n"
     ]
    }
   ],
   "source": [
    "import sys\n",
    "from PyQt5.QtWidgets import QApplication, QWidget, QCheckBox\n",
    "from PyQt5.QtCore import Qt\n",
    "\n",
    "\n",
    "class MyApp(QWidget):\n",
    "\n",
    "    def __init__(self):\n",
    "        super().__init__()\n",
    "        self.initUI()\n",
    "\n",
    "    def initUI(self):\n",
    "        # 체크 박스 생성\n",
    "        cb = QCheckBox('Show title', self)\n",
    "        cb.move(20, 20)\n",
    "        # 토글 사용으로 변경\n",
    "        cb.toggle()\n",
    "        # 상태가 바뀔때 커스텀메소드 활성화를 연결\n",
    "        cb.stateChanged.connect(self.changeTitle)\n",
    "        \n",
    "        self.setWindowTitle('QLabel')\n",
    "        self.setGeometry(300, 300, 300, 200)\n",
    "        self.show()\n",
    "        \n",
    "    def changeTitle(self, state):\n",
    "        if state == Qt.Checked:\n",
    "            self.setWindowTitle('QCheckBox')\n",
    "        else:\n",
    "            self.setWindowTitle(' ')\n",
    "\n",
    "\n",
    "if __name__ == '__main__':\n",
    "    app = QApplication(sys.argv)\n",
    "    ex = MyApp()\n",
    "    sys.exit(app.exec_())"
   ]
  },
  {
   "cell_type": "markdown",
   "id": "ecb05040",
   "metadata": {},
   "source": [
    "# 라디오 박스"
   ]
  },
  {
   "cell_type": "code",
   "execution_count": 1,
   "id": "e30ae16c",
   "metadata": {},
   "outputs": [
    {
     "ename": "SystemExit",
     "evalue": "0",
     "output_type": "error",
     "traceback": [
      "An exception has occurred, use %tb to see the full traceback.\n",
      "\u001b[1;31mSystemExit\u001b[0m\u001b[1;31m:\u001b[0m 0\n"
     ]
    },
    {
     "name": "stderr",
     "output_type": "stream",
     "text": [
      "C:\\Users\\cltn2\\anaconda3\\envs\\label\\lib\\site-packages\\IPython\\core\\interactiveshell.py:3351: UserWarning: To exit: use 'exit', 'quit', or Ctrl-D.\n",
      "  warn(\"To exit: use 'exit', 'quit', or Ctrl-D.\", stacklevel=1)\n"
     ]
    }
   ],
   "source": [
    "import sys\n",
    "from PyQt5.QtWidgets import QApplication, QWidget, QRadioButton\n",
    "\n",
    "\n",
    "class MyApp(QWidget):\n",
    "\n",
    "    def __init__(self):\n",
    "        super().__init__()\n",
    "        self.initUI()\n",
    "\n",
    "    def initUI(self):\n",
    "        # 라디오 버튼 생성\n",
    "        rbtn1 = QRadioButton('First Button', self)\n",
    "        rbtn1.move(50, 50)\n",
    "        # 초기 실행시 체크\n",
    "        rbtn1.setChecked(True)\n",
    "        \n",
    "        rbtn2 = QRadioButton(self)\n",
    "        rbtn2.move(50, 70)\n",
    "        rbtn2.setText('Second Button')\n",
    "\n",
    "        self.setGeometry(300, 300, 300, 200)\n",
    "        self.setWindowTitle('QRadioButton')\n",
    "        self.show()\n",
    "\n",
    "\n",
    "if __name__ == '__main__':\n",
    "    app = QApplication(sys.argv)\n",
    "    ex = MyApp()\n",
    "    sys.exit(app.exec_())"
   ]
  },
  {
   "cell_type": "markdown",
   "id": "e1db1bbc",
   "metadata": {},
   "source": [
    "# 콤보 박스"
   ]
  },
  {
   "cell_type": "code",
   "execution_count": null,
   "id": "b49463db",
   "metadata": {},
   "outputs": [],
   "source": [
    "import sys\n",
    "from PyQt5.QtWidgets import QApplication, QWidget, QLabel, QComboBox\n",
    "\n",
    "\n",
    "class MyApp(QWidget):\n",
    "\n",
    "    def __init__(self):\n",
    "        super().__init__()\n",
    "        self.initUI()\n",
    "\n",
    "    def initUI(self):\n",
    "        self.lbl = QLabel('Option1', self)\n",
    "        self.lbl.move(50, 150)\n",
    "\n",
    "        # 콤보박스 4개 옵션 추가\n",
    "        cb = QComboBox(self)\n",
    "        cb.addItem('Option1')\n",
    "        cb.addItem('Option2')\n",
    "        cb.addItem('Option3')\n",
    "        cb.addItem('Option4')\n",
    "        cb.move(50, 50)\n",
    "\n",
    "        # onActivated 메서드 연결\n",
    "        cb.activated[str].connect(self.onActivated)\n",
    "\n",
    "        self.setWindowTitle('QComboBox')\n",
    "        self.setGeometry(300, 300, 300, 200)\n",
    "        self.show()\n",
    "\n",
    "    # 선택한 항목의 텍스트가 라벨에 출력되고 라벨 크기를 자동 조절\n",
    "    def onActivated(self, text):\n",
    "        self.lbl.setText(text)\n",
    "        self.lbl.adjustSize()\n",
    "\n",
    "\n",
    "if __name__ == '__main__':\n",
    "    app = QApplication(sys.argv)\n",
    "    ex = MyApp()\n",
    "    sys.exit(app.exec_())"
   ]
  },
  {
   "cell_type": "markdown",
   "id": "ad114ab3",
   "metadata": {},
   "source": [
    "# QLineEdit"
   ]
  },
  {
   "cell_type": "code",
   "execution_count": 1,
   "id": "e2cdca3b",
   "metadata": {},
   "outputs": [
    {
     "ename": "SystemExit",
     "evalue": "0",
     "output_type": "error",
     "traceback": [
      "An exception has occurred, use %tb to see the full traceback.\n",
      "\u001b[1;31mSystemExit\u001b[0m\u001b[1;31m:\u001b[0m 0\n"
     ]
    },
    {
     "name": "stderr",
     "output_type": "stream",
     "text": [
      "C:\\Users\\cltn2\\anaconda3\\envs\\label\\lib\\site-packages\\IPython\\core\\interactiveshell.py:3351: UserWarning: To exit: use 'exit', 'quit', or Ctrl-D.\n",
      "  warn(\"To exit: use 'exit', 'quit', or Ctrl-D.\", stacklevel=1)\n"
     ]
    }
   ],
   "source": [
    "import sys\n",
    "from PyQt5.QtWidgets import QApplication, QWidget, QLabel, QLineEdit\n",
    "\n",
    "\n",
    "class MyApp(QWidget):\n",
    "\n",
    "    def __init__(self):\n",
    "        super().__init__()\n",
    "        self.initUI()\n",
    "\n",
    "    def initUI(self):\n",
    "        self.lbl = QLabel(self)\n",
    "        self.lbl.move(60, 40)\n",
    "\n",
    "        qle = QLineEdit(self)\n",
    "        qle.move(60, 100)\n",
    "        # 텍스트가 바뀌면 체인지하는 메소드 연결\n",
    "        qle.textChanged[str].connect(self.onChanged)\n",
    "\n",
    "        self.setWindowTitle('QLineEdit')\n",
    "        self.setGeometry(300, 300, 300, 200)\n",
    "        self.show()\n",
    "\n",
    "    def onChanged(self, text):\n",
    "        self.lbl.setText(text)\n",
    "        self.lbl.adjustSize()\n",
    "\n",
    "\n",
    "if __name__ == '__main__':\n",
    "    app = QApplication(sys.argv)\n",
    "    ex = MyApp()\n",
    "    sys.exit(app.exec_())"
   ]
  },
  {
   "cell_type": "markdown",
   "id": "fa0ac7ac",
   "metadata": {},
   "source": [
    "# QProgressBar"
   ]
  },
  {
   "cell_type": "code",
   "execution_count": 1,
   "id": "7d15be72",
   "metadata": {},
   "outputs": [
    {
     "ename": "SystemExit",
     "evalue": "0",
     "output_type": "error",
     "traceback": [
      "An exception has occurred, use %tb to see the full traceback.\n",
      "\u001b[1;31mSystemExit\u001b[0m\u001b[1;31m:\u001b[0m 0\n"
     ]
    },
    {
     "name": "stderr",
     "output_type": "stream",
     "text": [
      "C:\\Users\\cltn2\\anaconda3\\envs\\label\\lib\\site-packages\\IPython\\core\\interactiveshell.py:3351: UserWarning: To exit: use 'exit', 'quit', or Ctrl-D.\n",
      "  warn(\"To exit: use 'exit', 'quit', or Ctrl-D.\", stacklevel=1)\n"
     ]
    }
   ],
   "source": [
    "import sys\n",
    "from PyQt5.QtWidgets import QApplication, QWidget, QPushButton, QProgressBar\n",
    "from PyQt5.QtCore import QBasicTimer\n",
    "\n",
    "\n",
    "class MyApp(QWidget):\n",
    "\n",
    "    def __init__(self):\n",
    "        super().__init__()\n",
    "        self.initUI()\n",
    "\n",
    "    def initUI(self):\n",
    "        # 진행 표시줄 생성\n",
    "        self.pbar = QProgressBar(self)\n",
    "        # 크기 조절\n",
    "        self.pbar.setGeometry(30, 40, 200, 25)\n",
    "\n",
    "        # start/stop 버튼 생성\n",
    "        self.btn = QPushButton('Start', self)\n",
    "        self.btn.move(40, 80)\n",
    "        self.btn.clicked.connect(self.doAction)\n",
    "\n",
    "        self.timer = QBasicTimer()\n",
    "        self.step = 0\n",
    "\n",
    "        self.setWindowTitle('QProgressBar')\n",
    "        self.setGeometry(300, 300, 300, 200)\n",
    "        self.show()\n",
    "\n",
    "    def timerEvent(self, e):\n",
    "        if self.step >= 100:\n",
    "            self.timer.stop()\n",
    "            self.btn.setText('Finished')\n",
    "            return\n",
    "\n",
    "        self.step = self.step + 1\n",
    "        self.pbar.setValue(self.step)\n",
    "\n",
    "    def doAction(self):\n",
    "        if self.timer.isActive():\n",
    "            self.timer.stop()\n",
    "            self.btn.setText('Start')\n",
    "        else:\n",
    "            self.timer.start(100, self)\n",
    "            self.btn.setText('Stop')\n",
    "\n",
    "\n",
    "if __name__ == '__main__':\n",
    "    app = QApplication(sys.argv)\n",
    "    ex = MyApp()\n",
    "    sys.exit(app.exec_())"
   ]
  },
  {
   "cell_type": "code",
   "execution_count": null,
   "id": "42e9178f",
   "metadata": {},
   "outputs": [],
   "source": []
  }
 ],
 "metadata": {
  "kernelspec": {
   "display_name": "label",
   "language": "python",
   "name": "label"
  },
  "language_info": {
   "codemirror_mode": {
    "name": "ipython",
    "version": 3
   },
   "file_extension": ".py",
   "mimetype": "text/x-python",
   "name": "python",
   "nbconvert_exporter": "python",
   "pygments_lexer": "ipython3",
   "version": "3.6.13"
  }
 },
 "nbformat": 4,
 "nbformat_minor": 5
}
