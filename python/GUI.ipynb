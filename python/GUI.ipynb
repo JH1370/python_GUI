{
 "cells": [
  {
   "cell_type": "markdown",
   "id": "ff4b9129",
   "metadata": {},
   "source": [
    "# 창 생성"
   ]
  },
  {
   "cell_type": "code",
   "execution_count": 3,
   "id": "920d3612",
   "metadata": {},
   "outputs": [
    {
     "ename": "SystemExit",
     "evalue": "0",
     "output_type": "error",
     "traceback": [
      "An exception has occurred, use %tb to see the full traceback.\n",
      "\u001b[1;31mSystemExit\u001b[0m\u001b[1;31m:\u001b[0m 0\n"
     ]
    },
    {
     "name": "stderr",
     "output_type": "stream",
     "text": [
      "C:\\Users\\cltn2\\anaconda3\\envs\\label\\lib\\site-packages\\IPython\\core\\interactiveshell.py:3351: UserWarning: To exit: use 'exit', 'quit', or Ctrl-D.\n",
      "  warn(\"To exit: use 'exit', 'quit', or Ctrl-D.\", stacklevel=1)\n"
     ]
    }
   ],
   "source": [
    "import sys\n",
    "from PyQt5.QtWidgets import QApplication, QWidget\n",
    "\n",
    "\n",
    "class MyApp(QWidget):\n",
    "\n",
    "    def __init__(self):\n",
    "        super().__init__()\n",
    "        self.initUI()\n",
    "\n",
    "    def initUI(self):\n",
    "        self.setWindowTitle('My First Application') # 창의 제목\n",
    "        self.move(300, 300)                         # 스크린 크기\n",
    "        self.resize(400, 200)                       # 위젯 크기\n",
    "        self.show()                                 # 위젯을 스크린에 보여줌\n",
    "\n",
    "\n",
    "if __name__ == '__main__':\n",
    "   app = QApplication(sys.argv)\n",
    "   ex = MyApp()\n",
    "   sys.exit(app.exec_())"
   ]
  },
  {
   "cell_type": "markdown",
   "id": "a54ee7e4",
   "metadata": {},
   "source": [
    "# 타이틀 이미지 및 텍스트 표기"
   ]
  },
  {
   "cell_type": "code",
   "execution_count": 1,
   "id": "d66b9018",
   "metadata": {},
   "outputs": [
    {
     "ename": "SystemExit",
     "evalue": "0",
     "output_type": "error",
     "traceback": [
      "An exception has occurred, use %tb to see the full traceback.\n",
      "\u001b[1;31mSystemExit\u001b[0m\u001b[1;31m:\u001b[0m 0\n"
     ]
    },
    {
     "name": "stderr",
     "output_type": "stream",
     "text": [
      "C:\\Users\\cltn2\\anaconda3\\envs\\label\\lib\\site-packages\\IPython\\core\\interactiveshell.py:3351: UserWarning: To exit: use 'exit', 'quit', or Ctrl-D.\n",
      "  warn(\"To exit: use 'exit', 'quit', or Ctrl-D.\", stacklevel=1)\n"
     ]
    }
   ],
   "source": [
    "import sys\n",
    "from PyQt5.QtWidgets import QApplication, QWidget\n",
    "from PyQt5.QtGui import QIcon\n",
    "\n",
    "\n",
    "class MyApp(QWidget):\n",
    "\n",
    "    def __init__(self):\n",
    "        super().__init__()\n",
    "        self.initUI()\n",
    "\n",
    "    def initUI(self):\n",
    "        self.setWindowTitle('Icon')                 # 창의 제목\n",
    "        self.setWindowIcon(QIcon('picture/web.png'))# 아이콘 그림 표기\n",
    "        self.setGeometry(300, 300, 300, 200)        # 창의 위치와 크기 설정(위치x, 위치y, 너비, 높이)\n",
    "        self.show()                                 # 위젯을 스크린에 보여줌\n",
    "\n",
    "\n",
    "if __name__ == '__main__':\n",
    "   app = QApplication(sys.argv)\n",
    "   ex = MyApp()\n",
    "   sys.exit(app.exec_())"
   ]
  },
  {
   "cell_type": "markdown",
   "id": "22bff1c9",
   "metadata": {},
   "source": [
    "# 창 닫기"
   ]
  },
  {
   "cell_type": "code",
   "execution_count": 1,
   "id": "6755606a",
   "metadata": {},
   "outputs": [
    {
     "ename": "SystemExit",
     "evalue": "0",
     "output_type": "error",
     "traceback": [
      "An exception has occurred, use %tb to see the full traceback.\n",
      "\u001b[1;31mSystemExit\u001b[0m\u001b[1;31m:\u001b[0m 0\n"
     ]
    },
    {
     "name": "stderr",
     "output_type": "stream",
     "text": [
      "C:\\Users\\cltn2\\anaconda3\\envs\\label\\lib\\site-packages\\IPython\\core\\interactiveshell.py:3351: UserWarning: To exit: use 'exit', 'quit', or Ctrl-D.\n",
      "  warn(\"To exit: use 'exit', 'quit', or Ctrl-D.\", stacklevel=1)\n"
     ]
    }
   ],
   "source": [
    "import sys\n",
    "from PyQt5.QtWidgets import QApplication, QWidget, QPushButton\n",
    "from PyQt5.QtCore import QCoreApplication\n",
    "\n",
    "\n",
    "class MyApp(QWidget):\n",
    "\n",
    "    def __init__(self):\n",
    "        super().__init__()\n",
    "        self.initUI()\n",
    "\n",
    "    def initUI(self):\n",
    "        btn = QPushButton('quit', self)\n",
    "        btn.move(50, 50)\n",
    "        btn.resize(btn.sizeHint())\n",
    "        btn.clicked.connect(QCoreApplication.instance().quit)\n",
    "        \n",
    "        \n",
    "        self.setWindowTitle('Quit Button')                 # 창의 제목\n",
    "        self.setGeometry(300, 300, 300, 200)        # 창의 위치와 크기 설정(위치x, 위치y, 너비, 높이)\n",
    "        self.show()                                 # 위젯을 스크린에 보여줌\n",
    "\n",
    "\n",
    "if __name__ == '__main__':\n",
    "   app = QApplication(sys.argv)\n",
    "   ex = MyApp()\n",
    "   sys.exit(app.exec_())"
   ]
  },
  {
   "cell_type": "markdown",
   "id": "06d0b11f",
   "metadata": {},
   "source": [
    "# 툴팁"
   ]
  },
  {
   "cell_type": "code",
   "execution_count": 1,
   "id": "2a3b81d5",
   "metadata": {},
   "outputs": [
    {
     "ename": "SystemExit",
     "evalue": "0",
     "output_type": "error",
     "traceback": [
      "An exception has occurred, use %tb to see the full traceback.\n",
      "\u001b[1;31mSystemExit\u001b[0m\u001b[1;31m:\u001b[0m 0\n"
     ]
    },
    {
     "name": "stderr",
     "output_type": "stream",
     "text": [
      "C:\\Users\\cltn2\\anaconda3\\envs\\label\\lib\\site-packages\\IPython\\core\\interactiveshell.py:3351: UserWarning: To exit: use 'exit', 'quit', or Ctrl-D.\n",
      "  warn(\"To exit: use 'exit', 'quit', or Ctrl-D.\", stacklevel=1)\n"
     ]
    }
   ],
   "source": [
    "import sys\n",
    "from PyQt5.QtWidgets import QApplication, QWidget, QPushButton, QToolTip\n",
    "from PyQt5.QtGui import QFont\n",
    "\n",
    "\n",
    "class MyApp(QWidget):\n",
    "\n",
    "    def __init__(self):\n",
    "        super().__init__()\n",
    "        self.initUI()\n",
    "\n",
    "    def initUI(self):\n",
    "        QToolTip.setFont(QFont('SansSerif', 10))\n",
    "        self.setToolTip('this is a <b>QWidget</b> widget')\n",
    "        \n",
    "        btn = QPushButton('Button', self)\n",
    "        btn.setToolTip('This is a <b>QPushButton</b> widget')\n",
    "        btn.move(50, 50)\n",
    "        btn.resize(btn.sizeHint())\n",
    "        \n",
    "        self.setWindowTitle('Tooltips')                 # 창의 제목\n",
    "        self.setGeometry(300, 300, 300, 200)        # 창의 위치와 크기 설정(위치x, 위치y, 너비, 높이)\n",
    "        self.show()                                 # 위젯을 스크린에 보여줌\n",
    "\n",
    "\n",
    "if __name__ == '__main__':\n",
    "   app = QApplication(sys.argv)\n",
    "   ex = MyApp()\n",
    "   sys.exit(app.exec_())"
   ]
  },
  {
   "cell_type": "markdown",
   "id": "3961784b",
   "metadata": {},
   "source": [
    "# 상태바 만들기"
   ]
  },
  {
   "cell_type": "code",
   "execution_count": 2,
   "id": "b84ce22a",
   "metadata": {},
   "outputs": [
    {
     "ename": "SystemExit",
     "evalue": "0",
     "output_type": "error",
     "traceback": [
      "An exception has occurred, use %tb to see the full traceback.\n",
      "\u001b[1;31mSystemExit\u001b[0m\u001b[1;31m:\u001b[0m 0\n"
     ]
    },
    {
     "name": "stderr",
     "output_type": "stream",
     "text": [
      "C:\\Users\\cltn2\\anaconda3\\envs\\label\\lib\\site-packages\\IPython\\core\\interactiveshell.py:3351: UserWarning: To exit: use 'exit', 'quit', or Ctrl-D.\n",
      "  warn(\"To exit: use 'exit', 'quit', or Ctrl-D.\", stacklevel=1)\n"
     ]
    }
   ],
   "source": [
    "import sys\n",
    "from PyQt5.QtWidgets import QApplication, QMainWindow\n",
    "\n",
    "\n",
    "class MyApp(QMainWindow):\n",
    "\n",
    "    def __init__(self):\n",
    "        super().__init__()\n",
    "        self.initUI()\n",
    "\n",
    "    def initUI(self):\n",
    "        self.statusBar().showMessage('Ready')        # 위젯을 스크린에 보여줌\n",
    "        \n",
    "        self.setWindowTitle('statusbar')\n",
    "        self.setGeometry(300, 300, 300, 200)\n",
    "        self.show()\n",
    "\n",
    "\n",
    "if __name__ == '__main__':\n",
    "   app = QApplication(sys.argv)\n",
    "   ex = MyApp()\n",
    "   sys.exit(app.exec_())"
   ]
  },
  {
   "cell_type": "markdown",
   "id": "06256b89",
   "metadata": {},
   "source": [
    "# 메뉴바 만들기"
   ]
  },
  {
   "cell_type": "code",
   "execution_count": 2,
   "id": "e5bcd097",
   "metadata": {},
   "outputs": [
    {
     "ename": "SystemExit",
     "evalue": "0",
     "output_type": "error",
     "traceback": [
      "An exception has occurred, use %tb to see the full traceback.\n",
      "\u001b[1;31mSystemExit\u001b[0m\u001b[1;31m:\u001b[0m 0\n"
     ]
    },
    {
     "name": "stderr",
     "output_type": "stream",
     "text": [
      "C:\\Users\\cltn2\\anaconda3\\envs\\label\\lib\\site-packages\\IPython\\core\\interactiveshell.py:3351: UserWarning: To exit: use 'exit', 'quit', or Ctrl-D.\n",
      "  warn(\"To exit: use 'exit', 'quit', or Ctrl-D.\", stacklevel=1)\n"
     ]
    }
   ],
   "source": [
    "import sys\n",
    "from PyQt5.QtWidgets import QApplication, QMainWindow, QAction, qApp\n",
    "from PyQt5.QtGui import QIcon\n",
    "\n",
    "class MyApp(QMainWindow):\n",
    "\n",
    "    def __init__(self):\n",
    "        super().__init__()\n",
    "        self.initUI()\n",
    "\n",
    "    def initUI(self):\n",
    "        exitAction = QAction(QIcon('exit.png'), 'Exit', self)\n",
    "        exitAction.setShortcut('Ctrl+Q')\n",
    "        exitAction.setStatusTip('Exit application')\n",
    "        exitAction.triggered.connect(qApp.quit)\n",
    "        \n",
    "        self.statusBar()\n",
    "        \n",
    "        menubar = self.menuBar()\n",
    "        menubar.setNativeMenuBar(False)\n",
    "        filemenu = menubar.addMenu('&File')\n",
    "        filemenu.addAction(exitAction)\n",
    "        \n",
    "        self.toolbar = self.addToolBar('Exit')\n",
    "        self.toolbar.addAction(exitAction)\n",
    "        \n",
    "        self.setWindowTitle('Menubar')\n",
    "        self.setGeometry(300, 300, 300, 200)\n",
    "        self.show()\n",
    "        \n",
    "if __name__ == '__main__':\n",
    "    app = QApplication(sys.argv)\n",
    "    ex = MyApp()\n",
    "    sys.exit(app.exec_())"
   ]
  },
  {
   "cell_type": "markdown",
   "id": "aa3e5ac8",
   "metadata": {},
   "source": [
    "# 툴바 만들기"
   ]
  },
  {
   "cell_type": "code",
   "execution_count": null,
   "id": "d1281190",
   "metadata": {},
   "outputs": [],
   "source": [
    "import sys\n",
    "from PyQt5.QtWidgets import QApplication, QMainWindow, QAction, qApp\n",
    "from PyQt5.QtGui import QIcon\n",
    "\n",
    "class MyApp(QMainWindow):\n",
    "\n",
    "    def __init__(self):\n",
    "        super().__init__()\n",
    "        self.initUI()\n",
    "\n",
    "    def initUI(self):\n",
    "        exitAction = QAction(QIcon('picture/exit.png'), 'Exit', self)\n",
    "        exitAction.setShortcut('Ctrl+Q')\n",
    "        exitAction.setStatusTip('Exit application')\n",
    "        exitAction.triggered.connect(qApp.quit)\n",
    "        \n",
    "        self.statusBar()\n",
    "        \n",
    "        self.toolbar = self.addToolBar('Exit')\n",
    "        self.toolbar.addAction(exitAction)\n",
    "        \n",
    "      \n",
    "        self.setWindowTitle('Toolbar')\n",
    "        self.setGeometry(300, 300, 300, 200)\n",
    "        self.show()\n",
    "        \n",
    "if __name__ == '__main__':\n",
    "    app = QApplication(sys.argv)\n",
    "    ex = MyApp()\n",
    "    sys.exit(app.exec_())"
   ]
  },
  {
   "cell_type": "markdown",
   "id": "0a0474c3",
   "metadata": {},
   "source": [
    "# 창을 화면의 가운데로"
   ]
  },
  {
   "cell_type": "code",
   "execution_count": 1,
   "id": "a5fa671f",
   "metadata": {},
   "outputs": [
    {
     "ename": "SystemExit",
     "evalue": "0",
     "output_type": "error",
     "traceback": [
      "An exception has occurred, use %tb to see the full traceback.\n",
      "\u001b[1;31mSystemExit\u001b[0m\u001b[1;31m:\u001b[0m 0\n"
     ]
    },
    {
     "name": "stderr",
     "output_type": "stream",
     "text": [
      "C:\\Users\\cltn2\\anaconda3\\envs\\label\\lib\\site-packages\\IPython\\core\\interactiveshell.py:3351: UserWarning: To exit: use 'exit', 'quit', or Ctrl-D.\n",
      "  warn(\"To exit: use 'exit', 'quit', or Ctrl-D.\", stacklevel=1)\n"
     ]
    }
   ],
   "source": [
    "import sys\n",
    "from PyQt5.QtWidgets import QApplication, QWidget, QDesktopWidget\n",
    "\n",
    "\n",
    "class MyApp(QWidget):\n",
    "\n",
    "    def __init__(self):\n",
    "        super().__init__()\n",
    "        self.initUI()\n",
    "\n",
    "    def initUI(self):\n",
    "        self.setWindowTitle('Centering')\n",
    "        self.resize(500, 350)\n",
    "        self.center()\n",
    "        self.show()\n",
    "        \n",
    "    def center(self):\n",
    "        qr = self.frameGeometry()\n",
    "        cp = QDesktopWidget().availableGeometry().center()\n",
    "        qr.moveCenter(cp)\n",
    "        self.move(qr.topLeft())\n",
    "        \n",
    "if __name__ == '__main__':\n",
    "    app = QApplication(sys.argv)\n",
    "    ex = MyApp()\n",
    "    sys.exit(app.exec_())"
   ]
  },
  {
   "cell_type": "markdown",
   "id": "27245006",
   "metadata": {},
   "source": [
    "# 날짜와 시간 표시하기"
   ]
  },
  {
   "cell_type": "code",
   "execution_count": 2,
   "id": "e335f97d",
   "metadata": {},
   "outputs": [
    {
     "name": "stdout",
     "output_type": "stream",
     "text": [
      "화 10 4 2022\n"
     ]
    }
   ],
   "source": [
    "from PyQt5.QtCore import QDate\n",
    "\n",
    "now = QDate.currentDate()\n",
    "print(now.toString())"
   ]
  },
  {
   "cell_type": "code",
   "execution_count": 3,
   "id": "6db4543f",
   "metadata": {},
   "outputs": [
    {
     "name": "stdout",
     "output_type": "stream",
     "text": [
      "4.10.22\n",
      "04.10.2022\n",
      "화.10월.2022\n",
      "2022-10-04\n",
      "2022년 10월 4일 화요일\n"
     ]
    }
   ],
   "source": [
    "from PyQt5.QtCore import QDate, Qt\n",
    "\n",
    "now = QDate.currentDate()\n",
    "print(now.toString('d.M.yy'))\n",
    "print(now.toString('dd.MM.yyyy'))\n",
    "print(now.toString('ddd.MMMM.yyyy'))\n",
    "print(now.toString(Qt.ISODate))\n",
    "print(now.toString(Qt.DefaultLocaleLongDate))"
   ]
  },
  {
   "cell_type": "code",
   "execution_count": 4,
   "id": "65cc4096",
   "metadata": {},
   "outputs": [
    {
     "name": "stdout",
     "output_type": "stream",
     "text": [
      "13:35:58\n"
     ]
    }
   ],
   "source": [
    "from PyQt5.QtCore import QTime\n",
    "\n",
    "time = QTime.currentTime()\n",
    "print(time.toString())"
   ]
  },
  {
   "cell_type": "code",
   "execution_count": 5,
   "id": "e5f385c9",
   "metadata": {},
   "outputs": [
    {
     "name": "stdout",
     "output_type": "stream",
     "text": [
      "13.36.2\n",
      "13.36.02\n",
      "13.36.02.304\n",
      "오후 1:36:02\n",
      "오후 1:36\n"
     ]
    }
   ],
   "source": [
    "from PyQt5.QtCore import QTime, Qt\n",
    "\n",
    "time = QTime.currentTime()\n",
    "print(time.toString('h.m.s'))\n",
    "print(time.toString('hh.mm.ss'))\n",
    "print(time.toString('hh.mm.ss.zzz'))\n",
    "print(time.toString(Qt.DefaultLocaleLongDate))\n",
    "print(time.toString(Qt.DefaultLocaleShortDate))"
   ]
  },
  {
   "cell_type": "code",
   "execution_count": 6,
   "id": "f6517f1b",
   "metadata": {},
   "outputs": [
    {
     "name": "stdout",
     "output_type": "stream",
     "text": [
      "화 10 4 13:36:12 2022\n"
     ]
    }
   ],
   "source": [
    "from PyQt5.QtCore import QDateTime\n",
    "\n",
    "datetime = QDateTime.currentDateTime()\n",
    "print(datetime.toString())"
   ]
  },
  {
   "cell_type": "code",
   "execution_count": 7,
   "id": "e39e7307",
   "metadata": {},
   "outputs": [
    {
     "name": "stdout",
     "output_type": "stream",
     "text": [
      "4.10.22 13:36:23\n",
      "04.10.2022, 13:36:23\n",
      "2022년 10월 4일 화요일 오후 1:36:23\n",
      "2022-10-04 오후 1:36\n"
     ]
    }
   ],
   "source": [
    "from PyQt5.QtCore import QDateTime, Qt\n",
    "\n",
    "datetime = QDateTime.currentDateTime()\n",
    "print(datetime.toString('d.M.yy hh:mm:ss'))\n",
    "print(datetime.toString('dd.MM.yyyy, hh:mm:ss'))\n",
    "print(datetime.toString(Qt.DefaultLocaleLongDate))\n",
    "print(datetime.toString(Qt.DefaultLocaleShortDate))"
   ]
  },
  {
   "cell_type": "code",
   "execution_count": 1,
   "id": "6f361a7f",
   "metadata": {},
   "outputs": [
    {
     "ename": "SystemExit",
     "evalue": "0",
     "output_type": "error",
     "traceback": [
      "An exception has occurred, use %tb to see the full traceback.\n",
      "\u001b[1;31mSystemExit\u001b[0m\u001b[1;31m:\u001b[0m 0\n"
     ]
    },
    {
     "name": "stderr",
     "output_type": "stream",
     "text": [
      "C:\\Users\\cltn2\\anaconda3\\envs\\label\\lib\\site-packages\\IPython\\core\\interactiveshell.py:3351: UserWarning: To exit: use 'exit', 'quit', or Ctrl-D.\n",
      "  warn(\"To exit: use 'exit', 'quit', or Ctrl-D.\", stacklevel=1)\n"
     ]
    }
   ],
   "source": [
    "import sys\n",
    "from PyQt5.QtWidgets import QApplication, QMainWindow\n",
    "from PyQt5.QtCore import QDate, Qt\n",
    "\n",
    "\n",
    "class MyApp(QMainWindow):\n",
    "\n",
    "    def __init__(self):\n",
    "        super().__init__()\n",
    "        self.date = QDate.currentDate()\n",
    "        self.initUI()\n",
    "        \n",
    "    def initUI(self):\n",
    "        self.statusBar().showMessage(self.date.toString(Qt.DefaultLocaleLongDate))\n",
    "        self.setWindowTitle('Date')\n",
    "        self.setGeometry(300, 300, 400, 200)\n",
    "        self.show()\n",
    "        \n",
    "if __name__ == '__main__':\n",
    "    app = QApplication(sys.argv)\n",
    "    ex = MyApp()\n",
    "    sys.exit(app.exec_())"
   ]
  },
  {
   "cell_type": "markdown",
   "id": "79f15826",
   "metadata": {},
   "source": [
    "# 스타일 꾸미기"
   ]
  },
  {
   "cell_type": "code",
   "execution_count": null,
   "id": "1d0c4348",
   "metadata": {},
   "outputs": [],
   "source": [
    "import sys\n",
    "from PyQt5.QtWidgets import QApplication, QWidget, QLabel, QVBoxLayout\n",
    "\n",
    "\n",
    "class MyApp(QWidget):\n",
    "\n",
    "    def __init__(self):\n",
    "        super().__init__()\n",
    "        self.initUI()\n",
    "\n",
    "    def initUI(self):\n",
    "\n",
    "        lbl_red = QLabel('Red')\n",
    "        lbl_green = QLabel('Green')\n",
    "        lbl_blue = QLabel('Blue')\n",
    "\n",
    "        lbl_red.setStyleSheet(\"color: red;\"\n",
    "                             \"border-style: solid;\"\n",
    "                             \"border-width: 2px;\"\n",
    "                             \"border-color: #FA8072;\"\n",
    "                             \"border-radius: 3px\")\n",
    "        lbl_green.setStyleSheet(\"color: green;\"\n",
    "                               \"background-color: #7FFFD4\")\n",
    "        lbl_blue.setStyleSheet(\"color: blue;\"\n",
    "                              \"background-color: #87CEFA;\"\n",
    "                              \"border-style: dashed;\"\n",
    "                              \"border-width: 3px;\"\n",
    "                              \"border-color: #1E90FF\")\n",
    "\n",
    "        vbox = QVBoxLayout()\n",
    "        vbox.addWidget(lbl_red)\n",
    "        vbox.addWidget(lbl_green)\n",
    "        vbox.addWidget(lbl_blue)\n",
    "\n",
    "        self.setLayout(vbox)\n",
    "\n",
    "        self.setWindowTitle('Stylesheet')\n",
    "        self.setGeometry(300, 300, 300, 200)\n",
    "        self.show()\n",
    "\n",
    "\n",
    "if __name__ == '__main__':\n",
    "    app = QApplication(sys.argv)\n",
    "    ex = MyApp()\n",
    "    sys.exit(app.exec_())"
   ]
  },
  {
   "cell_type": "markdown",
   "id": "67d14a51",
   "metadata": {},
   "source": [
    "# 레이아웃 - 절대적 배치"
   ]
  },
  {
   "cell_type": "code",
   "execution_count": 1,
   "id": "3ca93c00",
   "metadata": {},
   "outputs": [
    {
     "ename": "SystemExit",
     "evalue": "0",
     "output_type": "error",
     "traceback": [
      "An exception has occurred, use %tb to see the full traceback.\n",
      "\u001b[1;31mSystemExit\u001b[0m\u001b[1;31m:\u001b[0m 0\n"
     ]
    },
    {
     "name": "stderr",
     "output_type": "stream",
     "text": [
      "C:\\Users\\cltn2\\anaconda3\\envs\\label\\lib\\site-packages\\IPython\\core\\interactiveshell.py:3351: UserWarning: To exit: use 'exit', 'quit', or Ctrl-D.\n",
      "  warn(\"To exit: use 'exit', 'quit', or Ctrl-D.\", stacklevel=1)\n"
     ]
    }
   ],
   "source": [
    "import sys\n",
    "from PyQt5.QtWidgets import QApplication, QWidget, QLabel, QPushButton\n",
    "\n",
    "\n",
    "class MyApp(QWidget):\n",
    "\n",
    "    def __init__(self):\n",
    "        super().__init__()\n",
    "        self.initUI()\n",
    "\n",
    "    def initUI(self):\n",
    "        label1 = QLabel('Label1', self)\n",
    "        label1.move(20, 20)\n",
    "        label2 = QLabel('Label2', self)\n",
    "        label2.move(20, 60)\n",
    "\n",
    "        btn1 = QPushButton('Button1', self)\n",
    "        btn1.move(80, 13)\n",
    "        btn2 = QPushButton('Button2', self)\n",
    "        btn2.move(80, 53)\n",
    "\n",
    "        self.setWindowTitle('Absolute Positioning')\n",
    "        self.setGeometry(300, 300, 400, 200)\n",
    "        self.show()\n",
    "\n",
    "\n",
    "if __name__ == '__main__':\n",
    "    app = QApplication(sys.argv)\n",
    "    ex = MyApp()\n",
    "    sys.exit(app.exec_())"
   ]
  },
  {
   "cell_type": "markdown",
   "id": "66489708",
   "metadata": {},
   "source": [
    "# 박스 레이아웃"
   ]
  },
  {
   "cell_type": "code",
   "execution_count": null,
   "id": "ea9b195a",
   "metadata": {},
   "outputs": [],
   "source": []
  }
 ],
 "metadata": {
  "kernelspec": {
   "display_name": "label",
   "language": "python",
   "name": "label"
  },
  "language_info": {
   "codemirror_mode": {
    "name": "ipython",
    "version": 3
   },
   "file_extension": ".py",
   "mimetype": "text/x-python",
   "name": "python",
   "nbconvert_exporter": "python",
   "pygments_lexer": "ipython3",
   "version": "3.6.13"
  }
 },
 "nbformat": 4,
 "nbformat_minor": 5
}
