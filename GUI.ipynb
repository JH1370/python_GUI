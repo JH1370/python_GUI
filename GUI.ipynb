{
 "cells": [
  {
   "cell_type": "markdown",
   "id": "91ef21e4",
   "metadata": {},
   "source": [
    "# 창 생성"
   ]
  },
  {
   "cell_type": "code",
   "execution_count": 3,
   "id": "05a18457",
   "metadata": {},
   "outputs": [
    {
     "ename": "SystemExit",
     "evalue": "0",
     "output_type": "error",
     "traceback": [
      "An exception has occurred, use %tb to see the full traceback.\n",
      "\u001b[1;31mSystemExit\u001b[0m\u001b[1;31m:\u001b[0m 0\n"
     ]
    },
    {
     "name": "stderr",
     "output_type": "stream",
     "text": [
      "C:\\Users\\cltn2\\anaconda3\\envs\\label\\lib\\site-packages\\IPython\\core\\interactiveshell.py:3351: UserWarning: To exit: use 'exit', 'quit', or Ctrl-D.\n",
      "  warn(\"To exit: use 'exit', 'quit', or Ctrl-D.\", stacklevel=1)\n"
     ]
    }
   ],
   "source": [
    "import sys\n",
    "from PyQt5.QtWidgets import QApplication, QWidget\n",
    "\n",
    "\n",
    "class MyApp(QWidget):\n",
    "\n",
    "    def __init__(self):\n",
    "        super().__init__()\n",
    "        self.initUI()\n",
    "\n",
    "    def initUI(self):\n",
    "        self.setWindowTitle('My First Application') # 창의 제목\n",
    "        self.move(300, 300)                         # 스크린 크기\n",
    "        self.resize(400, 200)                       # 위젯 크기\n",
    "        self.show()                                 # 위젯을 스크린에 보여줌\n",
    "\n",
    "\n",
    "if __name__ == '__main__':\n",
    "   app = QApplication(sys.argv)\n",
    "   ex = MyApp()\n",
    "   sys.exit(app.exec_())"
   ]
  },
  {
   "cell_type": "markdown",
   "id": "cdb5fde5",
   "metadata": {},
   "source": [
    "# 타이틀 이미지 및 텍스트 표기"
   ]
  },
  {
   "cell_type": "code",
   "execution_count": 1,
   "id": "3b71faa1",
   "metadata": {},
   "outputs": [
    {
     "ename": "SystemExit",
     "evalue": "0",
     "output_type": "error",
     "traceback": [
      "An exception has occurred, use %tb to see the full traceback.\n",
      "\u001b[1;31mSystemExit\u001b[0m\u001b[1;31m:\u001b[0m 0\n"
     ]
    },
    {
     "name": "stderr",
     "output_type": "stream",
     "text": [
      "C:\\Users\\cltn2\\anaconda3\\envs\\label\\lib\\site-packages\\IPython\\core\\interactiveshell.py:3351: UserWarning: To exit: use 'exit', 'quit', or Ctrl-D.\n",
      "  warn(\"To exit: use 'exit', 'quit', or Ctrl-D.\", stacklevel=1)\n"
     ]
    }
   ],
   "source": [
    "import sys\n",
    "from PyQt5.QtWidgets import QApplication, QWidget\n",
    "from PyQt5.QtGui import QIcon\n",
    "\n",
    "\n",
    "class MyApp(QWidget):\n",
    "\n",
    "    def __init__(self):\n",
    "        super().__init__()\n",
    "        self.initUI()\n",
    "\n",
    "    def initUI(self):\n",
    "        self.setWindowTitle('Icon')                 # 창의 제목\n",
    "        self.setWindowIcon(QIcon('picture/web.png'))# 아이콘 그림 표기\n",
    "        self.setGeometry(300, 300, 300, 200)        # 창의 위치와 크기 설정(위치x, 위치y, 너비, 높이)\n",
    "        self.show()                                 # 위젯을 스크린에 보여줌\n",
    "\n",
    "\n",
    "if __name__ == '__main__':\n",
    "   app = QApplication(sys.argv)\n",
    "   ex = MyApp()\n",
    "   sys.exit(app.exec_())"
   ]
  },
  {
   "cell_type": "markdown",
   "id": "beeb4cfb",
   "metadata": {},
   "source": [
    "# 창 닫기"
   ]
  },
  {
   "cell_type": "code",
   "execution_count": 1,
   "id": "cc5debf5",
   "metadata": {},
   "outputs": [
    {
     "ename": "SystemExit",
     "evalue": "0",
     "output_type": "error",
     "traceback": [
      "An exception has occurred, use %tb to see the full traceback.\n",
      "\u001b[1;31mSystemExit\u001b[0m\u001b[1;31m:\u001b[0m 0\n"
     ]
    },
    {
     "name": "stderr",
     "output_type": "stream",
     "text": [
      "C:\\Users\\cltn2\\anaconda3\\envs\\label\\lib\\site-packages\\IPython\\core\\interactiveshell.py:3351: UserWarning: To exit: use 'exit', 'quit', or Ctrl-D.\n",
      "  warn(\"To exit: use 'exit', 'quit', or Ctrl-D.\", stacklevel=1)\n"
     ]
    }
   ],
   "source": [
    "import sys\n",
    "from PyQt5.QtWidgets import QApplication, QWidget, QPushButton\n",
    "from PyQt5.QtCore import QCoreApplication\n",
    "\n",
    "\n",
    "class MyApp(QWidget):\n",
    "\n",
    "    def __init__(self):\n",
    "        super().__init__()\n",
    "        self.initUI()\n",
    "\n",
    "    def initUI(self):\n",
    "        btn = QPushButton('quit', self)\n",
    "        btn.move(50, 50)\n",
    "        btn.resize(btn.sizeHint())\n",
    "        btn.clicked.connect(QCoreApplication.instance().quit)\n",
    "        \n",
    "        \n",
    "        self.setWindowTitle('Quit Button')                 # 창의 제목\n",
    "        self.setGeometry(300, 300, 300, 200)        # 창의 위치와 크기 설정(위치x, 위치y, 너비, 높이)\n",
    "        self.show()                                 # 위젯을 스크린에 보여줌\n",
    "\n",
    "\n",
    "if __name__ == '__main__':\n",
    "   app = QApplication(sys.argv)\n",
    "   ex = MyApp()\n",
    "   sys.exit(app.exec_())"
   ]
  },
  {
   "cell_type": "markdown",
   "id": "cc7dd6bd",
   "metadata": {},
   "source": [
    "# 툴팁"
   ]
  },
  {
   "cell_type": "code",
   "execution_count": 1,
   "id": "2bf08b15",
   "metadata": {},
   "outputs": [
    {
     "ename": "SystemExit",
     "evalue": "0",
     "output_type": "error",
     "traceback": [
      "An exception has occurred, use %tb to see the full traceback.\n",
      "\u001b[1;31mSystemExit\u001b[0m\u001b[1;31m:\u001b[0m 0\n"
     ]
    },
    {
     "name": "stderr",
     "output_type": "stream",
     "text": [
      "C:\\Users\\cltn2\\anaconda3\\envs\\label\\lib\\site-packages\\IPython\\core\\interactiveshell.py:3351: UserWarning: To exit: use 'exit', 'quit', or Ctrl-D.\n",
      "  warn(\"To exit: use 'exit', 'quit', or Ctrl-D.\", stacklevel=1)\n"
     ]
    }
   ],
   "source": [
    "import sys\n",
    "from PyQt5.QtWidgets import QApplication, QWidget, QPushButton, QToolTip\n",
    "from PyQt5.QtGui import QFont\n",
    "\n",
    "\n",
    "class MyApp(QWidget):\n",
    "\n",
    "    def __init__(self):\n",
    "        super().__init__()\n",
    "        self.initUI()\n",
    "\n",
    "    def initUI(self):\n",
    "        QToolTip.setFont(QFont('SansSerif', 10))\n",
    "        self.setToolTip('this is a <b>QWidget</b> widget')\n",
    "        \n",
    "        btn = QPushButton('Button', self)\n",
    "        btn.setToolTip('This is a <b>QPushButton</b> widget')\n",
    "        btn.move(50, 50)\n",
    "        btn.resize(btn.sizeHint())\n",
    "        \n",
    "        self.setWindowTitle('Tooltips')                 # 창의 제목\n",
    "        self.setGeometry(300, 300, 300, 200)        # 창의 위치와 크기 설정(위치x, 위치y, 너비, 높이)\n",
    "        self.show()                                 # 위젯을 스크린에 보여줌\n",
    "\n",
    "\n",
    "if __name__ == '__main__':\n",
    "   app = QApplication(sys.argv)\n",
    "   ex = MyApp()\n",
    "   sys.exit(app.exec_())"
   ]
  },
  {
   "cell_type": "markdown",
   "id": "8d86cd74",
   "metadata": {},
   "source": [
    "# 상태바 만들기"
   ]
  },
  {
   "cell_type": "code",
   "execution_count": 2,
   "id": "3af19ae2",
   "metadata": {},
   "outputs": [
    {
     "ename": "SystemExit",
     "evalue": "0",
     "output_type": "error",
     "traceback": [
      "An exception has occurred, use %tb to see the full traceback.\n",
      "\u001b[1;31mSystemExit\u001b[0m\u001b[1;31m:\u001b[0m 0\n"
     ]
    },
    {
     "name": "stderr",
     "output_type": "stream",
     "text": [
      "C:\\Users\\cltn2\\anaconda3\\envs\\label\\lib\\site-packages\\IPython\\core\\interactiveshell.py:3351: UserWarning: To exit: use 'exit', 'quit', or Ctrl-D.\n",
      "  warn(\"To exit: use 'exit', 'quit', or Ctrl-D.\", stacklevel=1)\n"
     ]
    }
   ],
   "source": [
    "import sys\n",
    "from PyQt5.QtWidgets import QApplication, QMainWindow\n",
    "\n",
    "\n",
    "class MyApp(QMainWindow):\n",
    "\n",
    "    def __init__(self):\n",
    "        super().__init__()\n",
    "        self.initUI()\n",
    "\n",
    "    def initUI(self):\n",
    "        self.statusBar().showMessage('Ready')        # 위젯을 스크린에 보여줌\n",
    "        \n",
    "        self.setWindowTitle('statusbar')\n",
    "        self.setGeometry(300, 300, 300, 200)\n",
    "        self.show()\n",
    "\n",
    "\n",
    "if __name__ == '__main__':\n",
    "   app = QApplication(sys.argv)\n",
    "   ex = MyApp()\n",
    "   sys.exit(app.exec_())"
   ]
  },
  {
   "cell_type": "markdown",
   "id": "024eba07",
   "metadata": {},
   "source": [
    "# 메뉴바 만들기"
   ]
  },
  {
   "cell_type": "code",
   "execution_count": 2,
   "id": "6521bd00",
   "metadata": {},
   "outputs": [
    {
     "ename": "SystemExit",
     "evalue": "0",
     "output_type": "error",
     "traceback": [
      "An exception has occurred, use %tb to see the full traceback.\n",
      "\u001b[1;31mSystemExit\u001b[0m\u001b[1;31m:\u001b[0m 0\n"
     ]
    },
    {
     "name": "stderr",
     "output_type": "stream",
     "text": [
      "C:\\Users\\cltn2\\anaconda3\\envs\\label\\lib\\site-packages\\IPython\\core\\interactiveshell.py:3351: UserWarning: To exit: use 'exit', 'quit', or Ctrl-D.\n",
      "  warn(\"To exit: use 'exit', 'quit', or Ctrl-D.\", stacklevel=1)\n"
     ]
    }
   ],
   "source": [
    "import sys\n",
    "from PyQt5.QtWidgets import QApplication, QMainWindow, QAction, qApp\n",
    "from PyQt5.QtGui import QIcon\n",
    "\n",
    "class MyApp(QMainWindow):\n",
    "\n",
    "    def __init__(self):\n",
    "        super().__init__()\n",
    "        self.initUI()\n",
    "\n",
    "    def initUI(self):\n",
    "        exitAction = QAction(QIcon('exit.png'), 'Exit', self)\n",
    "        exitAction.setShortcut('Ctrl+Q')\n",
    "        exitAction.setStatusTip('Exit application')\n",
    "        exitAction.triggered.connect(qApp.quit)\n",
    "        \n",
    "        self.statusBar()\n",
    "        \n",
    "        menubar = self.menuBar()\n",
    "        menubar.setNativeMenuBar(False)\n",
    "        filemenu = menubar.addMenu('&File')\n",
    "        filemenu.addAction(exitAction)\n",
    "        \n",
    "        self.toolbar = self.addToolBar('Exit')\n",
    "        self.toolbar.addAction(exitAction)\n",
    "        \n",
    "        self.setWindowTitle('Menubar')\n",
    "        self.setGeometry(300, 300, 300, 200)\n",
    "        self.show()\n",
    "        \n",
    "if __name__ == '__main__':\n",
    "    app = QApplication(sys.argv)\n",
    "    ex = MyApp()\n",
    "    sys.exit(app.exec_())"
   ]
  },
  {
   "cell_type": "markdown",
   "id": "89b7ff9c",
   "metadata": {},
   "source": [
    "# 툴바 만들기"
   ]
  },
  {
   "cell_type": "code",
   "execution_count": null,
   "id": "a5b3e237",
   "metadata": {},
   "outputs": [],
   "source": [
    "import sys\n",
    "from PyQt5.QtWidgets import QApplication, QMainWindow, QAction, qApp\n",
    "from PyQt5.QtGui import QIcon\n",
    "\n",
    "class MyApp(QMainWindow):\n",
    "\n",
    "    def __init__(self):\n",
    "        super().__init__()\n",
    "        self.initUI()\n",
    "\n",
    "    def initUI(self):\n",
    "        exitAction = QAction(QIcon('picture/exit.png'), 'Exit', self)\n",
    "        exitAction.setShortcut('Ctrl+Q')\n",
    "        exitAction.setStatusTip('Exit application')\n",
    "        exitAction.triggered.connect(qApp.quit)\n",
    "        \n",
    "        self.statusBar()\n",
    "        \n",
    "        self.toolbar = self.addToolBar('Exit')\n",
    "        self.toolbar.addAction(exitAction)\n",
    "        \n",
    "      \n",
    "        self.setWindowTitle('Toolbar')\n",
    "        self.setGeometry(300, 300, 300, 200)\n",
    "        self.show()\n",
    "        \n",
    "if __name__ == '__main__':\n",
    "    app = QApplication(sys.argv)\n",
    "    ex = MyApp()\n",
    "    sys.exit(app.exec_())"
   ]
  },
  {
   "cell_type": "markdown",
   "id": "31393796",
   "metadata": {},
   "source": [
    "# 창을 화면의 가운데로"
   ]
  },
  {
   "cell_type": "code",
   "execution_count": 1,
   "id": "b3431440",
   "metadata": {},
   "outputs": [
    {
     "ename": "SystemExit",
     "evalue": "0",
     "output_type": "error",
     "traceback": [
      "An exception has occurred, use %tb to see the full traceback.\n",
      "\u001b[1;31mSystemExit\u001b[0m\u001b[1;31m:\u001b[0m 0\n"
     ]
    },
    {
     "name": "stderr",
     "output_type": "stream",
     "text": [
      "C:\\Users\\cltn2\\anaconda3\\envs\\label\\lib\\site-packages\\IPython\\core\\interactiveshell.py:3351: UserWarning: To exit: use 'exit', 'quit', or Ctrl-D.\n",
      "  warn(\"To exit: use 'exit', 'quit', or Ctrl-D.\", stacklevel=1)\n"
     ]
    }
   ],
   "source": [
    "import sys\n",
    "from PyQt5.QtWidgets import QApplication, QWidget, QDesktopWidget\n",
    "\n",
    "\n",
    "class MyApp(QWidget):\n",
    "\n",
    "    def __init__(self):\n",
    "        super().__init__()\n",
    "        self.initUI()\n",
    "\n",
    "    def initUI(self):\n",
    "        self.setWindowTitle('Centering')\n",
    "        self.resize(500, 350)\n",
    "        self.center()\n",
    "        self.show()\n",
    "        \n",
    "    def center(self):\n",
    "        qr = self.frameGeometry()\n",
    "        cp = QDesktopWidget().availableGeometry().center()\n",
    "        qr.moveCenter(cp)\n",
    "        self.move(qr.topLeft())\n",
    "        \n",
    "if __name__ == '__main__':\n",
    "    app = QApplication(sys.argv)\n",
    "    ex = MyApp()\n",
    "    sys.exit(app.exec_())"
   ]
  },
  {
   "cell_type": "markdown",
   "id": "53da7eba",
   "metadata": {},
   "source": [
    "# 날짜와 시간 표시하기"
   ]
  },
  {
   "cell_type": "code",
   "execution_count": 2,
   "id": "847331b3",
   "metadata": {},
   "outputs": [
    {
     "name": "stdout",
     "output_type": "stream",
     "text": [
      "화 10 4 2022\n"
     ]
    }
   ],
   "source": [
    "from PyQt5.QtCore import QDate\n",
    "\n",
    "now = QDate.currentDate()\n",
    "print(now.toString())"
   ]
  },
  {
   "cell_type": "code",
   "execution_count": 3,
   "id": "fe94def9",
   "metadata": {},
   "outputs": [
    {
     "name": "stdout",
     "output_type": "stream",
     "text": [
      "4.10.22\n",
      "04.10.2022\n",
      "화.10월.2022\n",
      "2022-10-04\n",
      "2022년 10월 4일 화요일\n"
     ]
    }
   ],
   "source": [
    "from PyQt5.QtCore import QDate, Qt\n",
    "\n",
    "now = QDate.currentDate()\n",
    "print(now.toString('d.M.yy'))\n",
    "print(now.toString('dd.MM.yyyy'))\n",
    "print(now.toString('ddd.MMMM.yyyy'))\n",
    "print(now.toString(Qt.ISODate))\n",
    "print(now.toString(Qt.DefaultLocaleLongDate))"
   ]
  },
  {
   "cell_type": "code",
   "execution_count": 4,
   "id": "33a2bccd",
   "metadata": {},
   "outputs": [
    {
     "name": "stdout",
     "output_type": "stream",
     "text": [
      "13:35:58\n"
     ]
    }
   ],
   "source": [
    "from PyQt5.QtCore import QTime\n",
    "\n",
    "time = QTime.currentTime()\n",
    "print(time.toString())"
   ]
  },
  {
   "cell_type": "code",
   "execution_count": 5,
   "id": "63804c19",
   "metadata": {},
   "outputs": [
    {
     "name": "stdout",
     "output_type": "stream",
     "text": [
      "13.36.2\n",
      "13.36.02\n",
      "13.36.02.304\n",
      "오후 1:36:02\n",
      "오후 1:36\n"
     ]
    }
   ],
   "source": [
    "from PyQt5.QtCore import QTime, Qt\n",
    "\n",
    "time = QTime.currentTime()\n",
    "print(time.toString('h.m.s'))\n",
    "print(time.toString('hh.mm.ss'))\n",
    "print(time.toString('hh.mm.ss.zzz'))\n",
    "print(time.toString(Qt.DefaultLocaleLongDate))\n",
    "print(time.toString(Qt.DefaultLocaleShortDate))"
   ]
  },
  {
   "cell_type": "code",
   "execution_count": 6,
   "id": "fc7b1e28",
   "metadata": {},
   "outputs": [
    {
     "name": "stdout",
     "output_type": "stream",
     "text": [
      "화 10 4 13:36:12 2022\n"
     ]
    }
   ],
   "source": [
    "from PyQt5.QtCore import QDateTime\n",
    "\n",
    "datetime = QDateTime.currentDateTime()\n",
    "print(datetime.toString())"
   ]
  },
  {
   "cell_type": "code",
   "execution_count": 7,
   "id": "ab132d04",
   "metadata": {},
   "outputs": [
    {
     "name": "stdout",
     "output_type": "stream",
     "text": [
      "4.10.22 13:36:23\n",
      "04.10.2022, 13:36:23\n",
      "2022년 10월 4일 화요일 오후 1:36:23\n",
      "2022-10-04 오후 1:36\n"
     ]
    }
   ],
   "source": [
    "from PyQt5.QtCore import QDateTime, Qt\n",
    "\n",
    "datetime = QDateTime.currentDateTime()\n",
    "print(datetime.toString('d.M.yy hh:mm:ss'))\n",
    "print(datetime.toString('dd.MM.yyyy, hh:mm:ss'))\n",
    "print(datetime.toString(Qt.DefaultLocaleLongDate))\n",
    "print(datetime.toString(Qt.DefaultLocaleShortDate))"
   ]
  },
  {
   "cell_type": "code",
   "execution_count": 1,
   "id": "259acad8",
   "metadata": {},
   "outputs": [
    {
     "ename": "SystemExit",
     "evalue": "0",
     "output_type": "error",
     "traceback": [
      "An exception has occurred, use %tb to see the full traceback.\n",
      "\u001b[1;31mSystemExit\u001b[0m\u001b[1;31m:\u001b[0m 0\n"
     ]
    },
    {
     "name": "stderr",
     "output_type": "stream",
     "text": [
      "C:\\Users\\cltn2\\anaconda3\\envs\\label\\lib\\site-packages\\IPython\\core\\interactiveshell.py:3351: UserWarning: To exit: use 'exit', 'quit', or Ctrl-D.\n",
      "  warn(\"To exit: use 'exit', 'quit', or Ctrl-D.\", stacklevel=1)\n"
     ]
    }
   ],
   "source": [
    "import sys\n",
    "from PyQt5.QtWidgets import QApplication, QMainWindow\n",
    "from PyQt5.QtCore import QDate, Qt\n",
    "\n",
    "\n",
    "class MyApp(QMainWindow):\n",
    "\n",
    "    def __init__(self):\n",
    "        super().__init__()\n",
    "        self.date = QDate.currentDate()\n",
    "        self.initUI()\n",
    "        \n",
    "    def initUI(self):\n",
    "        self.statusBar().showMessage(self.date.toString(Qt.DefaultLocaleLongDate))\n",
    "        self.setWindowTitle('Date')\n",
    "        self.setGeometry(300, 300, 400, 200)\n",
    "        self.show()\n",
    "        \n",
    "if __name__ == '__main__':\n",
    "    app = QApplication(sys.argv)\n",
    "    ex = MyApp()\n",
    "    sys.exit(app.exec_())"
   ]
  },
  {
   "cell_type": "markdown",
   "id": "826df49a",
   "metadata": {},
   "source": [
    "# 스타일 꾸미기"
   ]
  },
  {
   "cell_type": "code",
   "execution_count": null,
   "id": "b2dc22d9",
   "metadata": {},
   "outputs": [],
   "source": [
    "import sys\n",
    "from PyQt5.QtWidgets import QApplication, QWidget, QLabel, QVBoxLayout\n",
    "\n",
    "\n",
    "class MyApp(QWidget):\n",
    "\n",
    "    def __init__(self):\n",
    "        super().__init__()\n",
    "        self.initUI()\n",
    "\n",
    "    def initUI(self):\n",
    "\n",
    "        lbl_red = QLabel('Red')\n",
    "        lbl_green = QLabel('Green')\n",
    "        lbl_blue = QLabel('Blue')\n",
    "\n",
    "        lbl_red.setStyleSheet(\"color: red;\"\n",
    "                             \"border-style: solid;\"\n",
    "                             \"border-width: 2px;\"\n",
    "                             \"border-color: #FA8072;\"\n",
    "                             \"border-radius: 3px\")\n",
    "        lbl_green.setStyleSheet(\"color: green;\"\n",
    "                               \"background-color: #7FFFD4\")\n",
    "        lbl_blue.setStyleSheet(\"color: blue;\"\n",
    "                              \"background-color: #87CEFA;\"\n",
    "                              \"border-style: dashed;\"\n",
    "                              \"border-width: 3px;\"\n",
    "                              \"border-color: #1E90FF\")\n",
    "\n",
    "        vbox = QVBoxLayout()\n",
    "        vbox.addWidget(lbl_red)\n",
    "        vbox.addWidget(lbl_green)\n",
    "        vbox.addWidget(lbl_blue)\n",
    "\n",
    "        self.setLayout(vbox)\n",
    "\n",
    "        self.setWindowTitle('Stylesheet')\n",
    "        self.setGeometry(300, 300, 300, 200)\n",
    "        self.show()\n",
    "\n",
    "\n",
    "if __name__ == '__main__':\n",
    "    app = QApplication(sys.argv)\n",
    "    ex = MyApp()\n",
    "    sys.exit(app.exec_())"
   ]
  },
  {
   "cell_type": "markdown",
   "id": "f05751d5",
   "metadata": {},
   "source": [
    "# 레이아웃 - 절대적 배치"
   ]
  },
  {
   "cell_type": "code",
   "execution_count": 1,
   "id": "fa2f96dd",
   "metadata": {},
   "outputs": [
    {
     "ename": "SystemExit",
     "evalue": "0",
     "output_type": "error",
     "traceback": [
      "An exception has occurred, use %tb to see the full traceback.\n",
      "\u001b[1;31mSystemExit\u001b[0m\u001b[1;31m:\u001b[0m 0\n"
     ]
    },
    {
     "name": "stderr",
     "output_type": "stream",
     "text": [
      "C:\\Users\\cltn2\\anaconda3\\envs\\label\\lib\\site-packages\\IPython\\core\\interactiveshell.py:3351: UserWarning: To exit: use 'exit', 'quit', or Ctrl-D.\n",
      "  warn(\"To exit: use 'exit', 'quit', or Ctrl-D.\", stacklevel=1)\n"
     ]
    }
   ],
   "source": [
    "import sys\n",
    "from PyQt5.QtWidgets import QApplication, QWidget, QLabel, QPushButton\n",
    "\n",
    "\n",
    "class MyApp(QWidget):\n",
    "\n",
    "    def __init__(self):\n",
    "        super().__init__()\n",
    "        self.initUI()\n",
    "\n",
    "    def initUI(self):\n",
    "        label1 = QLabel('Label1', self)\n",
    "        label1.move(20, 20)\n",
    "        label2 = QLabel('Label2', self)\n",
    "        label2.move(20, 60)\n",
    "\n",
    "        btn1 = QPushButton('Button1', self)\n",
    "        btn1.move(80, 13)\n",
    "        btn2 = QPushButton('Button2', self)\n",
    "        btn2.move(80, 53)\n",
    "\n",
    "        self.setWindowTitle('Absolute Positioning')\n",
    "        self.setGeometry(300, 300, 400, 200)\n",
    "        self.show()\n",
    "\n",
    "\n",
    "if __name__ == '__main__':\n",
    "    app = QApplication(sys.argv)\n",
    "    ex = MyApp()\n",
    "    sys.exit(app.exec_())"
   ]
  },
  {
   "cell_type": "markdown",
   "id": "ee2623cf",
   "metadata": {},
   "source": [
    "# 박스 레이아웃"
   ]
  },
  {
   "cell_type": "code",
   "execution_count": 1,
   "id": "2e7c9a6a",
   "metadata": {},
   "outputs": [
    {
     "ename": "SystemExit",
     "evalue": "0",
     "output_type": "error",
     "traceback": [
      "An exception has occurred, use %tb to see the full traceback.\n",
      "\u001b[1;31mSystemExit\u001b[0m\u001b[1;31m:\u001b[0m 0\n"
     ]
    },
    {
     "name": "stderr",
     "output_type": "stream",
     "text": [
      "C:\\Users\\cltn2\\anaconda3\\envs\\label\\lib\\site-packages\\IPython\\core\\interactiveshell.py:3351: UserWarning: To exit: use 'exit', 'quit', or Ctrl-D.\n",
      "  warn(\"To exit: use 'exit', 'quit', or Ctrl-D.\", stacklevel=1)\n"
     ]
    }
   ],
   "source": [
    "import sys\n",
    "from PyQt5.QtWidgets import QApplication, QWidget, QPushButton, QHBoxLayout, QVBoxLayout\n",
    "\n",
    "\n",
    "class MyApp(QWidget):\n",
    "\n",
    "    def __init__(self):\n",
    "        super().__init__()\n",
    "        self.initUI()\n",
    "\n",
    "    def initUI(self):\n",
    "        okButton = QPushButton('OK')          # OK버튼 생성\n",
    "        cancelButton = QPushButton('Cancel')  # Cancel버튼 생성\n",
    "\n",
    "        # 수평박스를 만들고 두 버튼과 양 쪽 빈 공간 추가\n",
    "        hbox = QHBoxLayout()\n",
    "        hbox.addStretch(1)\n",
    "        hbox.addWidget(okButton)\n",
    "        hbox.addWidget(cancelButton)\n",
    "        hbox.addStretch(1)\n",
    "        \n",
    "        # 수평박스를 수직박스에 삽입(3:1 비율)\n",
    "        vbox = QVBoxLayout()\n",
    "        vbox.addStretch(3)\n",
    "        vbox.addLayout(hbox)\n",
    "        vbox.addStretch(1)\n",
    "        \n",
    "        self.setLayout(vbox)\n",
    "        \n",
    "        self.setWindowTitle('Box Layout')\n",
    "        self.setGeometry(300, 300, 300, 200)\n",
    "        self.show()\n",
    "\n",
    "\n",
    "if __name__ == '__main__':\n",
    "    app = QApplication(sys.argv)\n",
    "    ex = MyApp()\n",
    "    sys.exit(app.exec_())"
   ]
  },
  {
   "cell_type": "markdown",
   "id": "10d4a358",
   "metadata": {},
   "source": [
    "# 그리드 레이아웃"
   ]
  },
  {
   "cell_type": "code",
   "execution_count": null,
   "id": "a77ec6b4",
   "metadata": {},
   "outputs": [],
   "source": [
    "import sys\n",
    "from PyQt5.QtWidgets import (QApplication, QWidget, QGridLayout, QLabel, QLineEdit, QTextEdit)\n",
    "\n",
    "\n",
    "class MyApp(QWidget):\n",
    "\n",
    "    def __init__(self):\n",
    "        super().__init__()\n",
    "        self.initUI()\n",
    "\n",
    "    def initUI(self):\n",
    "        grid = QGridLayout()\n",
    "        self.setLayout(grid)\n",
    "\n",
    "        grid.addWidget(QLabel('Title:'), 0, 0)\n",
    "        grid.addWidget(QLabel('Author:'), 1, 0)\n",
    "        grid.addWidget(QLabel('Review:'), 2, 0)\n",
    "\n",
    "        grid.addWidget(QLineEdit(), 0, 1)\n",
    "        grid.addWidget(QLineEdit(), 1, 1)\n",
    "        grid.addWidget(QTextEdit(), 2, 1)\n",
    "\n",
    "        self.setWindowTitle('QGridLayout')\n",
    "        self.setGeometry(300, 300, 300, 200)\n",
    "        self.show()\n",
    "\n",
    "\n",
    "if __name__ == '__main__':\n",
    "    app = QApplication(sys.argv)\n",
    "    ex = MyApp()\n",
    "    sys.exit(app.exec_())"
   ]
  },
  {
   "cell_type": "markdown",
   "id": "f8888353",
   "metadata": {},
   "source": [
    "# QPushButton"
   ]
  },
  {
   "cell_type": "code",
   "execution_count": null,
   "id": "2d1c42c7",
   "metadata": {},
   "outputs": [],
   "source": [
    "import sys\n",
    "from PyQt5.QtWidgets import QApplication, QWidget, QPushButton, QVBoxLayout\n",
    "\n",
    "\n",
    "class MyApp(QWidget):\n",
    "\n",
    "    def __init__(self):\n",
    "        super().__init__()\n",
    "        self.initUI()\n",
    "\n",
    "    def initUI(self):\n",
    "        btn1 = QPushButton('&Button1', self)\n",
    "        btn1.setCheckable(True)\n",
    "        btn1.toggle()\n",
    "        \n",
    "        btn2 = QPushButton(self)\n",
    "        btn2.setText('Button&2')\n",
    "        \n",
    "        btn3 = QPushButton('Button3', self)\n",
    "        btn3.setEnabled(False)\n",
    "        \n",
    "        vbox = QVBoxLayout()\n",
    "        vbox.addWidget(btn1)\n",
    "        vbox.addWidget(btn2)\n",
    "        vbox.addWidget(btn3)\n",
    "        \n",
    "        self.setLayout(vbox)\n",
    "        self.setWindowTitle('QPushButton')\n",
    "        self.setGeometry(300, 300, 300, 200)\n",
    "        self.show()\n",
    "        \n",
    "if __name__=='__main__':\n",
    "    app = QApplication(sys.argv)\n",
    "    ex = MyApp()\n",
    "    sys.exit(app.exec_())"
   ]
  },
  {
   "cell_type": "markdown",
   "id": "9c6f4a65",
   "metadata": {},
   "source": [
    "# QLabel"
   ]
  },
  {
   "cell_type": "code",
   "execution_count": 1,
   "id": "09152832",
   "metadata": {},
   "outputs": [
    {
     "ename": "SystemExit",
     "evalue": "0",
     "output_type": "error",
     "traceback": [
      "An exception has occurred, use %tb to see the full traceback.\n",
      "\u001b[1;31mSystemExit\u001b[0m\u001b[1;31m:\u001b[0m 0\n"
     ]
    },
    {
     "name": "stderr",
     "output_type": "stream",
     "text": [
      "C:\\Users\\cltn2\\anaconda3\\envs\\label\\lib\\site-packages\\IPython\\core\\interactiveshell.py:3351: UserWarning: To exit: use 'exit', 'quit', or Ctrl-D.\n",
      "  warn(\"To exit: use 'exit', 'quit', or Ctrl-D.\", stacklevel=1)\n"
     ]
    }
   ],
   "source": [
    "import sys\n",
    "from PyQt5.QtWidgets import QApplication, QWidget, QLabel, QVBoxLayout\n",
    "from PyQt5.QtCore import Qt\n",
    "\n",
    "\n",
    "class MyApp(QWidget):\n",
    "\n",
    "    def __init__(self):\n",
    "        super().__init__()\n",
    "        self.initUI()\n",
    "\n",
    "    def initUI(self):\n",
    "        # 라벨1 생성\n",
    "        label1 = QLabel('First Label', self)\n",
    "        # 라벨1 배치 위치(수직 수평 가운데)\n",
    "        label1.setAlignment(Qt.AlignCenter)\n",
    "        \n",
    "        # 라벨2 생성 및 배치 위치(수직 가운데)\n",
    "        label2 = QLabel('Second Label', self)\n",
    "        label2.setAlignment(Qt.AlignVCenter)\n",
    "        \n",
    "        # 폰트 설정(크기)\n",
    "        font1 = label1.font()\n",
    "        font1.setPointSize(20)\n",
    "        \n",
    "        #폰트 설정(종류, 볼드, 크기 디폴트 13)\n",
    "        font2 = label2.font()\n",
    "        font2.setFamily('Times New Roman')\n",
    "        font2.setBold(True)\n",
    "        \n",
    "        label1.setFont(font1)\n",
    "        label2.setFont(font2)\n",
    "        \n",
    "        layout = QVBoxLayout()\n",
    "        layout.addWidget(label1)\n",
    "        layout.addWidget(label2)\n",
    "\n",
    "        self.setLayout(layout)\n",
    "\n",
    "        self.setWindowTitle('QLabel')\n",
    "        self.setGeometry(300, 300, 300, 200)\n",
    "        self.show()\n",
    "\n",
    "\n",
    "if __name__ == '__main__':\n",
    "    app = QApplication(sys.argv)\n",
    "    ex = MyApp()\n",
    "    sys.exit(app.exec_())"
   ]
  },
  {
   "cell_type": "markdown",
   "id": "099f7cad",
   "metadata": {},
   "source": [
    "# QCheckBox"
   ]
  },
  {
   "cell_type": "code",
   "execution_count": 1,
   "id": "f3f8209d",
   "metadata": {},
   "outputs": [
    {
     "ename": "SystemExit",
     "evalue": "0",
     "output_type": "error",
     "traceback": [
      "An exception has occurred, use %tb to see the full traceback.\n",
      "\u001b[1;31mSystemExit\u001b[0m\u001b[1;31m:\u001b[0m 0\n"
     ]
    },
    {
     "name": "stderr",
     "output_type": "stream",
     "text": [
      "C:\\Users\\cltn2\\anaconda3\\envs\\label\\lib\\site-packages\\IPython\\core\\interactiveshell.py:3351: UserWarning: To exit: use 'exit', 'quit', or Ctrl-D.\n",
      "  warn(\"To exit: use 'exit', 'quit', or Ctrl-D.\", stacklevel=1)\n"
     ]
    }
   ],
   "source": [
    "import sys\n",
    "from PyQt5.QtWidgets import QApplication, QWidget, QCheckBox\n",
    "from PyQt5.QtCore import Qt\n",
    "\n",
    "\n",
    "class MyApp(QWidget):\n",
    "\n",
    "    def __init__(self):\n",
    "        super().__init__()\n",
    "        self.initUI()\n",
    "\n",
    "    def initUI(self):\n",
    "        # 체크 박스 생성\n",
    "        cb = QCheckBox('Show title', self)\n",
    "        cb.move(20, 20)\n",
    "        # 토글 사용으로 변경\n",
    "        cb.toggle()\n",
    "        # 상태가 바뀔때 커스텀메소드 활성화를 연결\n",
    "        cb.stateChanged.connect(self.changeTitle)\n",
    "        \n",
    "        self.setWindowTitle('QLabel')\n",
    "        self.setGeometry(300, 300, 300, 200)\n",
    "        self.show()\n",
    "        \n",
    "    def changeTitle(self, state):\n",
    "        if state == Qt.Checked:\n",
    "            self.setWindowTitle('QCheckBox')\n",
    "        else:\n",
    "            self.setWindowTitle(' ')\n",
    "\n",
    "\n",
    "if __name__ == '__main__':\n",
    "    app = QApplication(sys.argv)\n",
    "    ex = MyApp()\n",
    "    sys.exit(app.exec_())"
   ]
  },
  {
   "cell_type": "markdown",
   "id": "ecb05040",
   "metadata": {},
   "source": [
    "# 라디오 박스"
   ]
  },
  {
   "cell_type": "code",
   "execution_count": 1,
   "id": "e30ae16c",
   "metadata": {},
   "outputs": [
    {
     "ename": "SystemExit",
     "evalue": "0",
     "output_type": "error",
     "traceback": [
      "An exception has occurred, use %tb to see the full traceback.\n",
      "\u001b[1;31mSystemExit\u001b[0m\u001b[1;31m:\u001b[0m 0\n"
     ]
    },
    {
     "name": "stderr",
     "output_type": "stream",
     "text": [
      "C:\\Users\\cltn2\\anaconda3\\envs\\label\\lib\\site-packages\\IPython\\core\\interactiveshell.py:3351: UserWarning: To exit: use 'exit', 'quit', or Ctrl-D.\n",
      "  warn(\"To exit: use 'exit', 'quit', or Ctrl-D.\", stacklevel=1)\n"
     ]
    }
   ],
   "source": [
    "import sys\n",
    "from PyQt5.QtWidgets import QApplication, QWidget, QRadioButton\n",
    "\n",
    "\n",
    "class MyApp(QWidget):\n",
    "\n",
    "    def __init__(self):\n",
    "        super().__init__()\n",
    "        self.initUI()\n",
    "\n",
    "    def initUI(self):\n",
    "        # 라디오 버튼 생성\n",
    "        rbtn1 = QRadioButton('First Button', self)\n",
    "        rbtn1.move(50, 50)\n",
    "        # 초기 실행시 체크\n",
    "        rbtn1.setChecked(True)\n",
    "        \n",
    "        rbtn2 = QRadioButton(self)\n",
    "        rbtn2.move(50, 70)\n",
    "        rbtn2.setText('Second Button')\n",
    "\n",
    "        self.setGeometry(300, 300, 300, 200)\n",
    "        self.setWindowTitle('QRadioButton')\n",
    "        self.show()\n",
    "\n",
    "\n",
    "if __name__ == '__main__':\n",
    "    app = QApplication(sys.argv)\n",
    "    ex = MyApp()\n",
    "    sys.exit(app.exec_())"
   ]
  },
  {
   "cell_type": "markdown",
   "id": "e1db1bbc",
   "metadata": {},
   "source": [
    "# 콤보 박스"
   ]
  },
  {
   "cell_type": "code",
   "execution_count": null,
   "id": "b49463db",
   "metadata": {},
   "outputs": [],
   "source": [
    "import sys\n",
    "from PyQt5.QtWidgets import QApplication, QWidget, QLabel, QComboBox\n",
    "\n",
    "\n",
    "class MyApp(QWidget):\n",
    "\n",
    "    def __init__(self):\n",
    "        super().__init__()\n",
    "        self.initUI()\n",
    "\n",
    "    def initUI(self):\n",
    "        self.lbl = QLabel('Option1', self)\n",
    "        self.lbl.move(50, 150)\n",
    "\n",
    "        # 콤보박스 4개 옵션 추가\n",
    "        cb = QComboBox(self)\n",
    "        cb.addItem('Option1')\n",
    "        cb.addItem('Option2')\n",
    "        cb.addItem('Option3')\n",
    "        cb.addItem('Option4')\n",
    "        cb.move(50, 50)\n",
    "\n",
    "        # onActivated 메서드 연결\n",
    "        cb.activated[str].connect(self.onActivated)\n",
    "\n",
    "        self.setWindowTitle('QComboBox')\n",
    "        self.setGeometry(300, 300, 300, 200)\n",
    "        self.show()\n",
    "\n",
    "    # 선택한 항목의 텍스트가 라벨에 출력되고 라벨 크기를 자동 조절\n",
    "    def onActivated(self, text):\n",
    "        self.lbl.setText(text)\n",
    "        self.lbl.adjustSize()\n",
    "\n",
    "\n",
    "if __name__ == '__main__':\n",
    "    app = QApplication(sys.argv)\n",
    "    ex = MyApp()\n",
    "    sys.exit(app.exec_())"
   ]
  },
  {
   "cell_type": "markdown",
   "id": "ad114ab3",
   "metadata": {},
   "source": [
    "# QLineEdit"
   ]
  },
  {
   "cell_type": "code",
   "execution_count": 1,
   "id": "e2cdca3b",
   "metadata": {},
   "outputs": [
    {
     "ename": "SystemExit",
     "evalue": "0",
     "output_type": "error",
     "traceback": [
      "An exception has occurred, use %tb to see the full traceback.\n",
      "\u001b[1;31mSystemExit\u001b[0m\u001b[1;31m:\u001b[0m 0\n"
     ]
    },
    {
     "name": "stderr",
     "output_type": "stream",
     "text": [
      "C:\\Users\\cltn2\\anaconda3\\envs\\label\\lib\\site-packages\\IPython\\core\\interactiveshell.py:3351: UserWarning: To exit: use 'exit', 'quit', or Ctrl-D.\n",
      "  warn(\"To exit: use 'exit', 'quit', or Ctrl-D.\", stacklevel=1)\n"
     ]
    }
   ],
   "source": [
    "import sys\n",
    "from PyQt5.QtWidgets import QApplication, QWidget, QLabel, QLineEdit\n",
    "\n",
    "\n",
    "class MyApp(QWidget):\n",
    "\n",
    "    def __init__(self):\n",
    "        super().__init__()\n",
    "        self.initUI()\n",
    "\n",
    "    def initUI(self):\n",
    "        self.lbl = QLabel(self)\n",
    "        self.lbl.move(60, 40)\n",
    "\n",
    "        qle = QLineEdit(self)\n",
    "        qle.move(60, 100)\n",
    "        # 텍스트가 바뀌면 체인지하는 메소드 연결\n",
    "        qle.textChanged[str].connect(self.onChanged)\n",
    "\n",
    "        self.setWindowTitle('QLineEdit')\n",
    "        self.setGeometry(300, 300, 300, 200)\n",
    "        self.show()\n",
    "\n",
    "    def onChanged(self, text):\n",
    "        self.lbl.setText(text)\n",
    "        self.lbl.adjustSize()\n",
    "\n",
    "\n",
    "if __name__ == '__main__':\n",
    "    app = QApplication(sys.argv)\n",
    "    ex = MyApp()\n",
    "    sys.exit(app.exec_())"
   ]
  },
  {
   "cell_type": "markdown",
   "id": "fa0ac7ac",
   "metadata": {},
   "source": [
    "# QProgressBar"
   ]
  },
  {
   "cell_type": "code",
   "execution_count": 1,
   "id": "7d15be72",
   "metadata": {},
   "outputs": [
    {
     "ename": "SystemExit",
     "evalue": "0",
     "output_type": "error",
     "traceback": [
      "An exception has occurred, use %tb to see the full traceback.\n",
      "\u001b[1;31mSystemExit\u001b[0m\u001b[1;31m:\u001b[0m 0\n"
     ]
    },
    {
     "name": "stderr",
     "output_type": "stream",
     "text": [
      "C:\\Users\\cltn2\\anaconda3\\envs\\label\\lib\\site-packages\\IPython\\core\\interactiveshell.py:3351: UserWarning: To exit: use 'exit', 'quit', or Ctrl-D.\n",
      "  warn(\"To exit: use 'exit', 'quit', or Ctrl-D.\", stacklevel=1)\n"
     ]
    }
   ],
   "source": [
    "import sys\n",
    "from PyQt5.QtWidgets import QApplication, QWidget, QPushButton, QProgressBar\n",
    "from PyQt5.QtCore import QBasicTimer\n",
    "\n",
    "\n",
    "class MyApp(QWidget):\n",
    "\n",
    "    def __init__(self):\n",
    "        super().__init__()\n",
    "        self.initUI()\n",
    "\n",
    "    def initUI(self):\n",
    "        # 진행 표시줄 생성\n",
    "        self.pbar = QProgressBar(self)\n",
    "        # 크기 조절\n",
    "        self.pbar.setGeometry(30, 40, 200, 25)\n",
    "\n",
    "        # start/stop 버튼 생성\n",
    "        self.btn = QPushButton('Start', self)\n",
    "        self.btn.move(40, 80)\n",
    "        self.btn.clicked.connect(self.doAction)\n",
    "\n",
    "        self.timer = QBasicTimer()\n",
    "        self.step = 0\n",
    "\n",
    "        self.setWindowTitle('QProgressBar')\n",
    "        self.setGeometry(300, 300, 300, 200)\n",
    "        self.show()\n",
    "\n",
    "    def timerEvent(self, e):\n",
    "        if self.step >= 100:\n",
    "            self.timer.stop()\n",
    "            self.btn.setText('Finished')\n",
    "            return\n",
    "\n",
    "        self.step = self.step + 1\n",
    "        self.pbar.setValue(self.step)\n",
    "\n",
    "    def doAction(self):\n",
    "        if self.timer.isActive():\n",
    "            self.timer.stop()\n",
    "            self.btn.setText('Start')\n",
    "        else:\n",
    "            self.timer.start(100, self)\n",
    "            self.btn.setText('Stop')\n",
    "\n",
    "\n",
    "if __name__ == '__main__':\n",
    "    app = QApplication(sys.argv)\n",
    "    ex = MyApp()\n",
    "    sys.exit(app.exec_())"
   ]
  },
  {
   "cell_type": "markdown",
   "id": "1760cf80",
   "metadata": {},
   "source": [
    "# QSlider & QDial"
   ]
  },
  {
   "cell_type": "code",
   "execution_count": 1,
   "id": "7baf7077",
   "metadata": {},
   "outputs": [
    {
     "ename": "SystemExit",
     "evalue": "0",
     "output_type": "error",
     "traceback": [
      "An exception has occurred, use %tb to see the full traceback.\n",
      "\u001b[1;31mSystemExit\u001b[0m\u001b[1;31m:\u001b[0m 0\n"
     ]
    },
    {
     "name": "stderr",
     "output_type": "stream",
     "text": [
      "C:\\Users\\cltn2\\anaconda3\\envs\\label\\lib\\site-packages\\IPython\\core\\interactiveshell.py:3351: UserWarning: To exit: use 'exit', 'quit', or Ctrl-D.\n",
      "  warn(\"To exit: use 'exit', 'quit', or Ctrl-D.\", stacklevel=1)\n"
     ]
    }
   ],
   "source": [
    "import sys\n",
    "from PyQt5.QtWidgets import QApplication, QWidget, QSlider, QDial, QPushButton\n",
    "from PyQt5.QtCore import Qt\n",
    "\n",
    "\n",
    "class MyApp(QWidget):\n",
    "\n",
    "    def __init__(self):\n",
    "        super().__init__()\n",
    "        self.initUI()\n",
    "\n",
    "    def initUI(self):\n",
    "        self.slider = QSlider(Qt.Horizontal, self)\n",
    "        self.slider.move(30, 30)\n",
    "        self.slider.setRange(0, 50)\n",
    "        self.slider.setSingleStep(2)\n",
    "        \n",
    "        self.dial = QDial(self)\n",
    "        self.dial.move(30, 50)\n",
    "        self.dial.setRange(0, 50)\n",
    "        \n",
    "        btn = QPushButton('Default', self)\n",
    "        btn.move(35, 160)\n",
    "        \n",
    "        self.slider.valueChanged.connect(self.dial.setValue)\n",
    "        self.dial.valueChanged.connect(self.slider.setValue)\n",
    "        btn.clicked.connect(self.button_clicked)\n",
    "\n",
    "        self.setWindowTitle('QSlider and QDial')\n",
    "        self.setGeometry(300, 300, 400, 200)\n",
    "        self.show()\n",
    "\n",
    "    def button_clicked(self):\n",
    "        self.slider.setValue(0)\n",
    "        self.dial.setValue(0)\n",
    "\n",
    "\n",
    "if __name__ == '__main__':\n",
    "    app = QApplication(sys.argv)\n",
    "    ex = MyApp()\n",
    "    sys.exit(app.exec_())"
   ]
  },
  {
   "cell_type": "markdown",
   "id": "07fff3f0",
   "metadata": {},
   "source": [
    "# QSplitter"
   ]
  },
  {
   "cell_type": "code",
   "execution_count": 1,
   "id": "6521c1ea",
   "metadata": {},
   "outputs": [
    {
     "ename": "SystemExit",
     "evalue": "0",
     "output_type": "error",
     "traceback": [
      "An exception has occurred, use %tb to see the full traceback.\n",
      "\u001b[1;31mSystemExit\u001b[0m\u001b[1;31m:\u001b[0m 0\n"
     ]
    },
    {
     "name": "stderr",
     "output_type": "stream",
     "text": [
      "C:\\Users\\cltn2\\anaconda3\\envs\\label\\lib\\site-packages\\IPython\\core\\interactiveshell.py:3351: UserWarning: To exit: use 'exit', 'quit', or Ctrl-D.\n",
      "  warn(\"To exit: use 'exit', 'quit', or Ctrl-D.\", stacklevel=1)\n"
     ]
    }
   ],
   "source": [
    "import sys\n",
    "from PyQt5.QtWidgets import QApplication, QWidget, QHBoxLayout, QFrame, QSplitter\n",
    "from PyQt5.QtCore import Qt\n",
    "\n",
    "\n",
    "class MyApp(QWidget):\n",
    "\n",
    "    def __init__(self):\n",
    "        super().__init__()\n",
    "        self.initUI()\n",
    "\n",
    "    def initUI(self):\n",
    "        hbox = QHBoxLayout()\n",
    "        \n",
    "        top = QFrame()\n",
    "        top.setFrameShape(QFrame.Box)\n",
    "        \n",
    "        midleft = QFrame()\n",
    "        midleft.setFrameShape(QFrame.StyledPanel)\n",
    "        \n",
    "        midright = QFrame()\n",
    "        midright.setFrameShape(QFrame.Panel)\n",
    "        \n",
    "        bottom = QFrame()\n",
    "        bottom.setFrameShape(QFrame.WinPanel)\n",
    "        bottom.setFrameShadow(QFrame.Sunken)\n",
    "        \n",
    "        splitter1 = QSplitter(Qt.Horizontal)\n",
    "        splitter1.addWidget(midleft)\n",
    "        splitter1.addWidget(midright)\n",
    "        \n",
    "        splitter2 = QSplitter(Qt.Vertical)\n",
    "        splitter2.addWidget(top)\n",
    "        splitter2.addWidget(splitter1)\n",
    "        splitter2.addWidget(bottom)\n",
    "        \n",
    "        hbox.addWidget(splitter2)\n",
    "        self.setLayout(hbox)\n",
    "\n",
    "        self.setGeometry(300, 300, 300, 200)\n",
    "        self.setWindowTitle('QSplitter')\n",
    "        self.show()\n",
    "\n",
    "\n",
    "if __name__ == '__main__':\n",
    "    app = QApplication(sys.argv)\n",
    "    ex = MyApp()\n",
    "    sys.exit(app.exec_())"
   ]
  },
  {
   "cell_type": "markdown",
   "id": "6abcc582",
   "metadata": {},
   "source": [
    "# QGroupBox"
   ]
  },
  {
   "cell_type": "code",
   "execution_count": 1,
   "id": "c80ad0bc",
   "metadata": {},
   "outputs": [
    {
     "ename": "SystemExit",
     "evalue": "0",
     "output_type": "error",
     "traceback": [
      "An exception has occurred, use %tb to see the full traceback.\n",
      "\u001b[1;31mSystemExit\u001b[0m\u001b[1;31m:\u001b[0m 0\n"
     ]
    },
    {
     "name": "stderr",
     "output_type": "stream",
     "text": [
      "C:\\Users\\cltn2\\anaconda3\\envs\\label\\lib\\site-packages\\IPython\\core\\interactiveshell.py:3351: UserWarning: To exit: use 'exit', 'quit', or Ctrl-D.\n",
      "  warn(\"To exit: use 'exit', 'quit', or Ctrl-D.\", stacklevel=1)\n"
     ]
    }
   ],
   "source": [
    "import sys\n",
    "from PyQt5.QtWidgets import (QApplication, QWidget, QGroupBox, QRadioButton\n",
    ", QCheckBox, QPushButton, QMenu, QGridLayout, QVBoxLayout)\n",
    "\n",
    "\n",
    "class MyApp(QWidget):\n",
    "\n",
    "    def __init__(self):\n",
    "        super().__init__()\n",
    "        self.initUI()\n",
    "\n",
    "    def initUI(self):\n",
    "        grid = QGridLayout()\n",
    "        grid.addWidget(self.createFirstExclusiveGroup(), 0, 0)\n",
    "        grid.addWidget(self.createSecondExclusiveGroup(), 1, 0)\n",
    "        grid.addWidget(self.createNonExclusiveGroup(), 0, 1)\n",
    "        grid.addWidget(self.createPushButtonGroup(), 1, 1)\n",
    "        \n",
    "        self.setLayout(grid)\n",
    "\n",
    "        self.setWindowTitle('Box Layout')\n",
    "        self.setGeometry(300, 300, 480, 320)\n",
    "        self.show()\n",
    "\n",
    "    def createFirstExclusiveGroup(self):\n",
    "        groupbox = QGroupBox('Exclusive Radio Buttons')\n",
    "        \n",
    "        radio1 = QRadioButton('Radio1')\n",
    "        radio2 = QRadioButton('Radio2')\n",
    "        radio3 = QRadioButton('Radio3')\n",
    "        radio1.setChecked(True)\n",
    "        \n",
    "        vbox = QVBoxLayout()\n",
    "        vbox.addWidget(radio1)\n",
    "        vbox.addWidget(radio2)\n",
    "        vbox.addWidget(radio3)\n",
    "        groupbox.setLayout(vbox)\n",
    "        \n",
    "        return groupbox\n",
    "    \n",
    "    def createSecondExclusiveGroup(self):\n",
    "        groupbox = QGroupBox('Exclusive radio Buttons')\n",
    "        groupbox.setCheckable(True)\n",
    "        groupbox.setChecked(False)\n",
    "        \n",
    "        radio1 = QRadioButton('Radio1')\n",
    "        radio2 = QRadioButton('Radio2')\n",
    "        radio3 = QRadioButton('Radio3')\n",
    "        radio1.setChecked(True)\n",
    "        checkbox = QCheckBox('Independent Checkbox')\n",
    "        checkbox.setChecked(True)\n",
    "        \n",
    "        vbox = QVBoxLayout()\n",
    "        vbox.addWidget(radio1)\n",
    "        vbox.addWidget(radio2)\n",
    "        vbox.addWidget(radio3)\n",
    "        vbox.addWidget(checkbox)\n",
    "        vbox.addStretch(1)\n",
    "        groupbox.setLayout(vbox)\n",
    "        \n",
    "        return groupbox\n",
    "    \n",
    "    def createNonExclusiveGroup(self):\n",
    "        groupbox = QGroupBox('Non-Exclusive Checkboxes')\n",
    "        groupbox.setFlat(True)\n",
    "\n",
    "        checkbox1 = QCheckBox('Checkbox1')\n",
    "        checkbox2 = QCheckBox('Checkbox2')\n",
    "        checkbox2.setChecked(True)\n",
    "        tristatebox = QCheckBox('Tri-state Button')\n",
    "        tristatebox.setTristate(True)\n",
    "\n",
    "        vbox = QVBoxLayout()\n",
    "        vbox.addWidget(checkbox1)\n",
    "        vbox.addWidget(checkbox2)\n",
    "        vbox.addWidget(tristatebox)\n",
    "        vbox.addStretch(1)\n",
    "        groupbox.setLayout(vbox)\n",
    "\n",
    "        return groupbox\n",
    "\n",
    "    def createPushButtonGroup(self):\n",
    "        groupbox = QGroupBox('Push Buttons')\n",
    "        groupbox.setCheckable(True)\n",
    "        groupbox.setChecked(True)\n",
    "\n",
    "        pushbutton = QPushButton('Normal Button')\n",
    "        togglebutton = QPushButton('Toggle Button')\n",
    "        togglebutton.setCheckable(True)\n",
    "        togglebutton.setChecked(True)\n",
    "        flatbutton = QPushButton('Flat Button')\n",
    "        flatbutton.setFlat(True)\n",
    "        popupbutton = QPushButton('Popup Button')\n",
    "        menu = QMenu(self)\n",
    "        menu.addAction('First Item')\n",
    "        menu.addAction('Second Item')\n",
    "        menu.addAction('Third Item')\n",
    "        menu.addAction('Fourth Item')\n",
    "        popupbutton.setMenu(menu)\n",
    "\n",
    "        vbox = QVBoxLayout()\n",
    "        vbox.addWidget(pushbutton)\n",
    "        vbox.addWidget(togglebutton)\n",
    "        vbox.addWidget(flatbutton)\n",
    "        vbox.addWidget(popupbutton)\n",
    "        vbox.addStretch(1)\n",
    "        groupbox.setLayout(vbox)\n",
    "\n",
    "        return groupbox\n",
    "    \n",
    "#     def createSecondExclusiveGroup(self):\n",
    "        \n",
    "    \n",
    "if __name__ == '__main__':\n",
    "    app = QApplication(sys.argv)\n",
    "    ex = MyApp()\n",
    "    sys.exit(app.exec_())"
   ]
  },
  {
   "cell_type": "markdown",
   "id": "5551e461",
   "metadata": {},
   "source": [
    "# QTabWidget"
   ]
  },
  {
   "cell_type": "code",
   "execution_count": 1,
   "id": "7f253cab",
   "metadata": {},
   "outputs": [
    {
     "ename": "SystemExit",
     "evalue": "0",
     "output_type": "error",
     "traceback": [
      "An exception has occurred, use %tb to see the full traceback.\n",
      "\u001b[1;31mSystemExit\u001b[0m\u001b[1;31m:\u001b[0m 0\n"
     ]
    },
    {
     "name": "stderr",
     "output_type": "stream",
     "text": [
      "C:\\Users\\cltn2\\anaconda3\\envs\\label\\lib\\site-packages\\IPython\\core\\interactiveshell.py:3351: UserWarning: To exit: use 'exit', 'quit', or Ctrl-D.\n",
      "  warn(\"To exit: use 'exit', 'quit', or Ctrl-D.\", stacklevel=1)\n"
     ]
    }
   ],
   "source": [
    "import sys\n",
    "from PyQt5.QtWidgets import QApplication, QWidget, QTabWidget, QVBoxLayout\n",
    "\n",
    "\n",
    "class MyApp(QWidget):\n",
    "\n",
    "    def __init__(self):\n",
    "        super().__init__()\n",
    "        self.initUI()\n",
    "\n",
    "    def initUI(self):\n",
    "        tab1 = QWidget()\n",
    "        tab2 = QWidget()\n",
    "\n",
    "        tabs = QTabWidget()\n",
    "        tabs.addTab(tab1, 'Tab1')\n",
    "        tabs.addTab(tab2, 'Tab2')\n",
    "\n",
    "        vbox = QVBoxLayout()\n",
    "        vbox.addWidget(tabs)\n",
    "\n",
    "        self.setLayout(vbox)\n",
    "\n",
    "        self.setWindowTitle('QTabWidget')\n",
    "        self.setGeometry(300, 300, 300, 200)\n",
    "        self.show()\n",
    "\n",
    "\n",
    "if __name__ == '__main__':\n",
    "    app = QApplication(sys.argv)\n",
    "    ex = MyApp()\n",
    "    sys.exit(app.exec_())"
   ]
  },
  {
   "cell_type": "markdown",
   "id": "447a5c1a",
   "metadata": {},
   "source": [
    "# QPixmap"
   ]
  },
  {
   "cell_type": "code",
   "execution_count": 1,
   "id": "89f30cb3",
   "metadata": {},
   "outputs": [
    {
     "ename": "SystemExit",
     "evalue": "0",
     "output_type": "error",
     "traceback": [
      "An exception has occurred, use %tb to see the full traceback.\n",
      "\u001b[1;31mSystemExit\u001b[0m\u001b[1;31m:\u001b[0m 0\n"
     ]
    },
    {
     "name": "stderr",
     "output_type": "stream",
     "text": [
      "C:\\Users\\cltn2\\anaconda3\\envs\\label\\lib\\site-packages\\IPython\\core\\interactiveshell.py:3351: UserWarning: To exit: use 'exit', 'quit', or Ctrl-D.\n",
      "  warn(\"To exit: use 'exit', 'quit', or Ctrl-D.\", stacklevel=1)\n"
     ]
    }
   ],
   "source": [
    "import sys\n",
    "from PyQt5.QtWidgets import QApplication, QWidget, QLabel, QVBoxLayout\n",
    "from PyQt5.QtGui import QPixmap\n",
    "from PyQt5.QtCore import Qt\n",
    "\n",
    "\n",
    "class MyApp(QWidget):\n",
    "\n",
    "    def __init__(self):\n",
    "        super().__init__()\n",
    "        self.initUI()\n",
    "\n",
    "    def initUI(self):\n",
    "        pixmap = QPixmap('picture/landscape.png')\n",
    "        \n",
    "        lbl_img = QLabel()\n",
    "        lbl_img.setPixmap(pixmap)\n",
    "        lbl_size = QLabel('Width: '+str(pixmap.width())+', Height: '+str(pixmap.height()))\n",
    "        lbl_size.setAlignment(Qt.AlignCenter)\n",
    "\n",
    "        vbox = QVBoxLayout()\n",
    "        vbox.addWidget(lbl_img)\n",
    "        vbox.addWidget(lbl_size)\n",
    "        self.setLayout(vbox)\n",
    "\n",
    "        self.setWindowTitle('QPixmap')\n",
    "        self.move(300, 300)\n",
    "        self.show()\n",
    "\n",
    "\n",
    "if __name__ == '__main__':\n",
    "    app = QApplication(sys.argv)\n",
    "    ex = MyApp()\n",
    "    sys.exit(app.exec_())"
   ]
  },
  {
   "cell_type": "markdown",
   "id": "9b28a6d6",
   "metadata": {},
   "source": [
    "# QCalendarWidget"
   ]
  },
  {
   "cell_type": "code",
   "execution_count": 1,
   "id": "1f42ff4f",
   "metadata": {},
   "outputs": [
    {
     "ename": "SystemExit",
     "evalue": "0",
     "output_type": "error",
     "traceback": [
      "An exception has occurred, use %tb to see the full traceback.\n",
      "\u001b[1;31mSystemExit\u001b[0m\u001b[1;31m:\u001b[0m 0\n"
     ]
    },
    {
     "name": "stderr",
     "output_type": "stream",
     "text": [
      "C:\\Users\\cltn2\\anaconda3\\envs\\label\\lib\\site-packages\\IPython\\core\\interactiveshell.py:3351: UserWarning: To exit: use 'exit', 'quit', or Ctrl-D.\n",
      "  warn(\"To exit: use 'exit', 'quit', or Ctrl-D.\", stacklevel=1)\n"
     ]
    }
   ],
   "source": [
    "import sys\n",
    "from PyQt5.QtWidgets import QApplication, QWidget, QLabel, QVBoxLayout, QCalendarWidget\n",
    "from PyQt5.QtCore import QDate\n",
    "\n",
    "\n",
    "class MyApp(QWidget):\n",
    "\n",
    "    def __init__(self):\n",
    "        super().__init__()\n",
    "        self.initUI()\n",
    "\n",
    "    def initUI(self):\n",
    "        cal = QCalendarWidget(self)\n",
    "        cal.setGridVisible(True)\n",
    "        cal.clicked[QDate].connect(self.showDate)\n",
    "\n",
    "        self.lbl = QLabel(self)\n",
    "        date = cal.selectedDate()\n",
    "        self.lbl.setText(date.toString())\n",
    "\n",
    "        vbox = QVBoxLayout()\n",
    "        vbox.addWidget(cal)\n",
    "        vbox.addWidget(self.lbl)\n",
    "\n",
    "        self.setLayout(vbox)\n",
    "\n",
    "        self.setWindowTitle('QCalendarWidget')\n",
    "        self.setGeometry(300, 300, 400, 300)\n",
    "        self.show()\n",
    "\n",
    "    def showDate(self, date):\n",
    "        self.lbl.setText(date.toString())\n",
    "\n",
    "\n",
    "if __name__ == '__main__':\n",
    "    app = QApplication(sys.argv)\n",
    "    ex = MyApp()\n",
    "    sys.exit(app.exec_())"
   ]
  },
  {
   "cell_type": "markdown",
   "id": "798b00ff",
   "metadata": {},
   "source": [
    "# QSpinBox"
   ]
  },
  {
   "cell_type": "code",
   "execution_count": 1,
   "id": "a4ebf318",
   "metadata": {},
   "outputs": [
    {
     "ename": "SystemExit",
     "evalue": "0",
     "output_type": "error",
     "traceback": [
      "An exception has occurred, use %tb to see the full traceback.\n",
      "\u001b[1;31mSystemExit\u001b[0m\u001b[1;31m:\u001b[0m 0\n"
     ]
    },
    {
     "name": "stderr",
     "output_type": "stream",
     "text": [
      "C:\\Users\\cltn2\\anaconda3\\envs\\label\\lib\\site-packages\\IPython\\core\\interactiveshell.py:3351: UserWarning: To exit: use 'exit', 'quit', or Ctrl-D.\n",
      "  warn(\"To exit: use 'exit', 'quit', or Ctrl-D.\", stacklevel=1)\n"
     ]
    }
   ],
   "source": [
    "import sys\n",
    "from PyQt5.QtWidgets import QApplication, QWidget, QLabel, QSpinBox, QVBoxLayout\n",
    "\n",
    "\n",
    "class MyApp(QWidget):\n",
    "\n",
    "    def __init__(self):\n",
    "        super().__init__()\n",
    "        self.initUI()\n",
    "\n",
    "    def initUI(self):\n",
    "        self.lbl1 = QLabel('QSpinBox')\n",
    "        self.spinbox = QSpinBox()\n",
    "        self.spinbox.setMinimum(-10)\n",
    "        self.spinbox.setMaximum(30)\n",
    "        # self.spinbox.setRange(-10, 30)\n",
    "        self.spinbox.setSingleStep(2)\n",
    "        self.lbl2 = QLabel('0')\n",
    "\n",
    "        self.spinbox.valueChanged.connect(self.value_changed)\n",
    "\n",
    "        vbox = QVBoxLayout()\n",
    "        vbox.addWidget(self.lbl1)\n",
    "        vbox.addWidget(self.spinbox)\n",
    "        vbox.addWidget(self.lbl2)\n",
    "        vbox.addStretch()\n",
    "\n",
    "        self.setLayout(vbox)\n",
    "\n",
    "        self.setWindowTitle('QSpinBox')\n",
    "        self.setGeometry(300, 300, 300, 200)\n",
    "        self.show()\n",
    "\n",
    "    def value_changed(self):\n",
    "        self.lbl2.setText(str(self.spinbox.value()))\n",
    "\n",
    "\n",
    "if __name__ == '__main__':\n",
    "    app = QApplication(sys.argv)\n",
    "    ex = MyApp()\n",
    "    sys.exit(app.exec_())"
   ]
  },
  {
   "cell_type": "markdown",
   "id": "3cc48052",
   "metadata": {},
   "source": [
    "# QDoubleSpinBox"
   ]
  },
  {
   "cell_type": "code",
   "execution_count": 1,
   "id": "13f370e3",
   "metadata": {},
   "outputs": [
    {
     "ename": "SystemExit",
     "evalue": "0",
     "output_type": "error",
     "traceback": [
      "An exception has occurred, use %tb to see the full traceback.\n",
      "\u001b[1;31mSystemExit\u001b[0m\u001b[1;31m:\u001b[0m 0\n"
     ]
    },
    {
     "name": "stderr",
     "output_type": "stream",
     "text": [
      "C:\\Users\\cltn2\\anaconda3\\envs\\label\\lib\\site-packages\\IPython\\core\\interactiveshell.py:3351: UserWarning: To exit: use 'exit', 'quit', or Ctrl-D.\n",
      "  warn(\"To exit: use 'exit', 'quit', or Ctrl-D.\", stacklevel=1)\n"
     ]
    }
   ],
   "source": [
    "import sys\n",
    "from PyQt5.QtWidgets import QApplication, QWidget, QLabel, QDoubleSpinBox, QVBoxLayout\n",
    "\n",
    "\n",
    "class MyApp(QWidget):\n",
    "\n",
    "    def __init__(self):\n",
    "        super().__init__()\n",
    "        self.initUI()\n",
    "\n",
    "    def initUI(self):\n",
    "        self.lbl1 = QLabel('QDoubleSpinBox')\n",
    "        self.dspinbox = QDoubleSpinBox()\n",
    "        self.dspinbox.setRange(0, 100)\n",
    "        self.dspinbox.setSingleStep(0.5)\n",
    "        self.dspinbox.setPrefix('$ ')\n",
    "        self.dspinbox.setDecimals(1)\n",
    "        self.lbl2 = QLabel('$ 0.0')\n",
    "\n",
    "        self.dspinbox.valueChanged.connect(self.value_changed)\n",
    "\n",
    "        vbox = QVBoxLayout()\n",
    "        vbox.addWidget(self.lbl1)\n",
    "        vbox.addWidget(self.dspinbox)\n",
    "        vbox.addWidget(self.lbl2)\n",
    "        vbox.addStretch()\n",
    "\n",
    "        self.setLayout(vbox)\n",
    "\n",
    "        self.setWindowTitle('QDoubleSpinBox')\n",
    "        self.setGeometry(300, 300, 300, 200)\n",
    "        self.show()\n",
    "\n",
    "    def value_changed(self):\n",
    "        self.lbl2.setText('$ ' + str(self.dspinbox.value()))\n",
    "\n",
    "\n",
    "if __name__ == '__main__':\n",
    "    app = QApplication(sys.argv)\n",
    "    ex = MyApp()\n",
    "    sys.exit(app.exec_())"
   ]
  },
  {
   "cell_type": "markdown",
   "id": "01926573",
   "metadata": {},
   "source": [
    "# QDateEdit"
   ]
  },
  {
   "cell_type": "code",
   "execution_count": 1,
   "id": "fcbe60c2",
   "metadata": {},
   "outputs": [
    {
     "ename": "SystemExit",
     "evalue": "0",
     "output_type": "error",
     "traceback": [
      "An exception has occurred, use %tb to see the full traceback.\n",
      "\u001b[1;31mSystemExit\u001b[0m\u001b[1;31m:\u001b[0m 0\n"
     ]
    },
    {
     "name": "stderr",
     "output_type": "stream",
     "text": [
      "C:\\Users\\cltn2\\anaconda3\\envs\\label\\lib\\site-packages\\IPython\\core\\interactiveshell.py:3351: UserWarning: To exit: use 'exit', 'quit', or Ctrl-D.\n",
      "  warn(\"To exit: use 'exit', 'quit', or Ctrl-D.\", stacklevel=1)\n"
     ]
    }
   ],
   "source": [
    "import sys\n",
    "from PyQt5.QtWidgets import QApplication, QWidget, QLabel, QDateEdit, QVBoxLayout\n",
    "from PyQt5.QtCore import QDate\n",
    "\n",
    "\n",
    "class MyApp(QWidget):\n",
    "\n",
    "    def __init__(self):\n",
    "        super().__init__()\n",
    "        self.initUI()\n",
    "\n",
    "    def initUI(self):\n",
    "        lbl = QLabel('QDateEdit')\n",
    "\n",
    "        dateedit = QDateEdit(self)\n",
    "        dateedit.setDate(QDate.currentDate())\n",
    "        dateedit.setMinimumDate(QDate(1900, 1, 1))\n",
    "        dateedit.setMaximumDate(QDate(2100, 12, 31))\n",
    "        # dateedit.setDateRange(QDate(1900, 1, 1), QDate(2100, 12, 31))\n",
    "\n",
    "        vbox = QVBoxLayout()\n",
    "        vbox.addWidget(lbl)\n",
    "        vbox.addWidget(dateedit)\n",
    "        vbox.addStretch()\n",
    "\n",
    "        self.setLayout(vbox)\n",
    "\n",
    "        self.setWindowTitle('QDateEdit')\n",
    "        self.setGeometry(300, 300, 300, 200)\n",
    "        self.show()\n",
    "\n",
    "\n",
    "if __name__ == '__main__':\n",
    "    app = QApplication(sys.argv)\n",
    "    ex = MyApp()\n",
    "    sys.exit(app.exec_())"
   ]
  },
  {
   "cell_type": "markdown",
   "id": "6484c73d",
   "metadata": {},
   "source": [
    "# QTimeEdit"
   ]
  },
  {
   "cell_type": "code",
   "execution_count": 1,
   "id": "c39b769c",
   "metadata": {},
   "outputs": [
    {
     "ename": "SystemExit",
     "evalue": "0",
     "output_type": "error",
     "traceback": [
      "An exception has occurred, use %tb to see the full traceback.\n",
      "\u001b[1;31mSystemExit\u001b[0m\u001b[1;31m:\u001b[0m 0\n"
     ]
    },
    {
     "name": "stderr",
     "output_type": "stream",
     "text": [
      "C:\\Users\\cltn2\\anaconda3\\envs\\label\\lib\\site-packages\\IPython\\core\\interactiveshell.py:3351: UserWarning: To exit: use 'exit', 'quit', or Ctrl-D.\n",
      "  warn(\"To exit: use 'exit', 'quit', or Ctrl-D.\", stacklevel=1)\n"
     ]
    }
   ],
   "source": [
    "import sys\n",
    "from PyQt5.QtWidgets import QApplication, QWidget, QLabel, QTimeEdit, QVBoxLayout\n",
    "from PyQt5.QtCore import QTime\n",
    "\n",
    "\n",
    "class MyApp(QWidget):\n",
    "\n",
    "    def __init__(self):\n",
    "        super().__init__()\n",
    "        self.initUI()\n",
    "\n",
    "    def initUI(self):\n",
    "        lbl = QLabel('QTimeEdit')\n",
    "\n",
    "        timeedit = QTimeEdit(self)\n",
    "        timeedit.setTime(QTime.currentTime())\n",
    "        timeedit.setTimeRange(QTime(3, 00, 00), QTime(23, 30, 00))\n",
    "        timeedit.setDisplayFormat('hh:mm:ss')\n",
    "\n",
    "        vbox = QVBoxLayout()\n",
    "        vbox.addWidget(lbl)\n",
    "        vbox.addWidget(timeedit)\n",
    "        vbox.addStretch()\n",
    "\n",
    "        self.setLayout(vbox)\n",
    "\n",
    "        self.setWindowTitle('QTimeEdit')\n",
    "        self.setGeometry(300, 300, 300, 200)\n",
    "        self.show()\n",
    "\n",
    "\n",
    "if __name__ == '__main__':\n",
    "    app = QApplication(sys.argv)\n",
    "    ex = MyApp()\n",
    "    sys.exit(app.exec_())"
   ]
  },
  {
   "cell_type": "markdown",
   "id": "216ebcb9",
   "metadata": {},
   "source": [
    "# QDateTimeEdit"
   ]
  },
  {
   "cell_type": "code",
   "execution_count": 1,
   "id": "b2375572",
   "metadata": {},
   "outputs": [
    {
     "ename": "SystemExit",
     "evalue": "0",
     "output_type": "error",
     "traceback": [
      "An exception has occurred, use %tb to see the full traceback.\n",
      "\u001b[1;31mSystemExit\u001b[0m\u001b[1;31m:\u001b[0m 0\n"
     ]
    },
    {
     "name": "stderr",
     "output_type": "stream",
     "text": [
      "C:\\Users\\cltn2\\anaconda3\\envs\\label\\lib\\site-packages\\IPython\\core\\interactiveshell.py:3351: UserWarning: To exit: use 'exit', 'quit', or Ctrl-D.\n",
      "  warn(\"To exit: use 'exit', 'quit', or Ctrl-D.\", stacklevel=1)\n"
     ]
    }
   ],
   "source": [
    "import sys\n",
    "from PyQt5.QtWidgets import QApplication, QWidget, QLabel, QDateTimeEdit, QVBoxLayout\n",
    "from PyQt5.QtCore import QDateTime\n",
    "\n",
    "\n",
    "class MyApp(QWidget):\n",
    "\n",
    "    def __init__(self):\n",
    "        super().__init__()\n",
    "        self.initUI()\n",
    "\n",
    "    def initUI(self):\n",
    "        lbl = QLabel('QTimeEdit')\n",
    "\n",
    "        datetimeedit = QDateTimeEdit(self)\n",
    "        datetimeedit.setDateTime(QDateTime.currentDateTime())\n",
    "        datetimeedit.setDateTimeRange(QDateTime(1900, 1, 1, 00, 00, 00), QDateTime(2100, 1, 1, 00, 00, 00))\n",
    "        datetimeedit.setDisplayFormat('yyyy.MM.dd hh:mm:ss')\n",
    "\n",
    "        vbox = QVBoxLayout()\n",
    "        vbox.addWidget(lbl)\n",
    "        vbox.addWidget(datetimeedit)\n",
    "        vbox.addStretch()\n",
    "\n",
    "        self.setLayout(vbox)\n",
    "\n",
    "        self.setWindowTitle('QDateTimeEdit')\n",
    "        self.setGeometry(300, 300, 300, 200)\n",
    "        self.show()\n",
    "\n",
    "\n",
    "if __name__ == '__main__':\n",
    "    app = QApplication(sys.argv)\n",
    "    ex = MyApp()\n",
    "    sys.exit(app.exec_())"
   ]
  },
  {
   "cell_type": "markdown",
   "id": "c3228d80",
   "metadata": {},
   "source": [
    "# QTextBrowser"
   ]
  },
  {
   "cell_type": "code",
   "execution_count": 1,
   "id": "e92c5c6f",
   "metadata": {},
   "outputs": [
    {
     "ename": "SystemExit",
     "evalue": "0",
     "output_type": "error",
     "traceback": [
      "An exception has occurred, use %tb to see the full traceback.\n",
      "\u001b[1;31mSystemExit\u001b[0m\u001b[1;31m:\u001b[0m 0\n"
     ]
    },
    {
     "name": "stderr",
     "output_type": "stream",
     "text": [
      "C:\\Users\\cltn2\\anaconda3\\envs\\label\\lib\\site-packages\\IPython\\core\\interactiveshell.py:3351: UserWarning: To exit: use 'exit', 'quit', or Ctrl-D.\n",
      "  warn(\"To exit: use 'exit', 'quit', or Ctrl-D.\", stacklevel=1)\n"
     ]
    }
   ],
   "source": [
    "import sys\n",
    "from PyQt5.QtWidgets import (QApplication, QWidget\n",
    ", QLineEdit, QTextBrowser, QPushButton, QVBoxLayout)\n",
    "\n",
    "\n",
    "class MyApp(QWidget):\n",
    "\n",
    "    def __init__(self):\n",
    "        super().__init__()\n",
    "        self.initUI()\n",
    "\n",
    "    def initUI(self):\n",
    "        self.le = QLineEdit()\n",
    "        self.le.returnPressed.connect(self.append_text)\n",
    "\n",
    "        self.tb = QTextBrowser()\n",
    "        self.tb.setAcceptRichText(True)\n",
    "        self.tb.setOpenExternalLinks(True)\n",
    "\n",
    "        self.clear_btn = QPushButton('Clear')\n",
    "        self.clear_btn.pressed.connect(self.clear_text)\n",
    "\n",
    "        vbox = QVBoxLayout()\n",
    "        vbox.addWidget(self.le, 0)\n",
    "        vbox.addWidget(self.tb, 1)\n",
    "        vbox.addWidget(self.clear_btn, 2)\n",
    "\n",
    "        self.setLayout(vbox)\n",
    "\n",
    "        self.setWindowTitle('QTextBrowser')\n",
    "        self.setGeometry(300, 300, 300, 300)\n",
    "        self.show()\n",
    "\n",
    "    def append_text(self):\n",
    "        text = self.le.text()\n",
    "        self.tb.append(text)\n",
    "        self.le.clear()\n",
    "\n",
    "    def clear_text(self):\n",
    "        self.tb.clear()\n",
    "\n",
    "\n",
    "if __name__ == '__main__':\n",
    "    app = QApplication(sys.argv)\n",
    "    ex = MyApp()\n",
    "    sys.exit(app.exec_())"
   ]
  },
  {
   "cell_type": "markdown",
   "id": "66915360",
   "metadata": {},
   "source": [
    "# QTextEdit"
   ]
  },
  {
   "cell_type": "code",
   "execution_count": 1,
   "id": "e5348287",
   "metadata": {},
   "outputs": [
    {
     "ename": "SystemExit",
     "evalue": "0",
     "output_type": "error",
     "traceback": [
      "An exception has occurred, use %tb to see the full traceback.\n",
      "\u001b[1;31mSystemExit\u001b[0m\u001b[1;31m:\u001b[0m 0\n"
     ]
    },
    {
     "name": "stderr",
     "output_type": "stream",
     "text": [
      "C:\\Users\\cltn2\\anaconda3\\envs\\label\\lib\\site-packages\\IPython\\core\\interactiveshell.py:3351: UserWarning: To exit: use 'exit', 'quit', or Ctrl-D.\n",
      "  warn(\"To exit: use 'exit', 'quit', or Ctrl-D.\", stacklevel=1)\n"
     ]
    }
   ],
   "source": [
    "import sys\n",
    "from PyQt5.QtWidgets import QApplication, QWidget, QLabel, QTextEdit, QVBoxLayout\n",
    "\n",
    "\n",
    "class MyApp(QWidget):\n",
    "\n",
    "    def __init__(self):\n",
    "        super().__init__()\n",
    "        self.initUI()\n",
    "\n",
    "    def initUI(self):\n",
    "        self.lbl1 = QLabel('Enter your sentence:')\n",
    "        self.te = QTextEdit()\n",
    "        self.te.setAcceptRichText(False)\n",
    "        self.lbl2 = QLabel('The number of words is 0')\n",
    "\n",
    "        self.te.textChanged.connect(self.text_changed)\n",
    "\n",
    "        vbox = QVBoxLayout()\n",
    "        vbox.addWidget(self.lbl1)\n",
    "        vbox.addWidget(self.te)\n",
    "        vbox.addWidget(self.lbl2)\n",
    "        vbox.addStretch()\n",
    "\n",
    "        self.setLayout(vbox)\n",
    "\n",
    "        self.setWindowTitle('QTextEdit')\n",
    "        self.setGeometry(300, 300, 300, 200)\n",
    "        self.show()\n",
    "\n",
    "    def text_changed(self):\n",
    "        text = self.te.toPlainText()\n",
    "        self.lbl2.setText('The number of words is ' + str(len(text.split())))\n",
    "\n",
    "\n",
    "if __name__ == '__main__':\n",
    "    app = QApplication(sys.argv)\n",
    "    ex = MyApp()\n",
    "    sys.exit(app.exec_())"
   ]
  },
  {
   "cell_type": "markdown",
   "id": "366f8f5f",
   "metadata": {},
   "source": [
    "# QTableWidget"
   ]
  },
  {
   "cell_type": "code",
   "execution_count": 1,
   "id": "85ccb6b8",
   "metadata": {},
   "outputs": [
    {
     "ename": "SystemExit",
     "evalue": "0",
     "output_type": "error",
     "traceback": [
      "An exception has occurred, use %tb to see the full traceback.\n",
      "\u001b[1;31mSystemExit\u001b[0m\u001b[1;31m:\u001b[0m 0\n"
     ]
    },
    {
     "name": "stderr",
     "output_type": "stream",
     "text": [
      "C:\\Users\\cltn2\\anaconda3\\envs\\label\\lib\\site-packages\\IPython\\core\\interactiveshell.py:3351: UserWarning: To exit: use 'exit', 'quit', or Ctrl-D.\n",
      "  warn(\"To exit: use 'exit', 'quit', or Ctrl-D.\", stacklevel=1)\n"
     ]
    }
   ],
   "source": [
    "import sys\n",
    "from PyQt5.QtWidgets import *\n",
    "\n",
    "\n",
    "class MyApp(QWidget):\n",
    "\n",
    "    def __init__(self):\n",
    "        super().__init__()\n",
    "        self.initUI()\n",
    "\n",
    "    def initUI(self):\n",
    "\n",
    "        self.tableWidget = QTableWidget()\n",
    "        self.tableWidget.setRowCount(20)\n",
    "        self.tableWidget.setColumnCount(4)\n",
    "\n",
    "        self.tableWidget.setEditTriggers(QAbstractItemView.NoEditTriggers)\n",
    "        # self.tableWidget.setEditTriggers(QAbstractItemView.DoubleClicked)\n",
    "        # self.tableWidget.setEditTriggers(QAbstractItemView.AllEditTriggers)\n",
    "\n",
    "        self.tableWidget.horizontalHeader().setSectionResizeMode(QHeaderView.Stretch)\n",
    "        # self.tableWidget.horizontalHeader().setSectionResizeMode(QHeaderView.ResizeToContents)\n",
    "\n",
    "        for i in range(20):\n",
    "            for j in range(4):\n",
    "                self.tableWidget.setItem(i, j, QTableWidgetItem(str(i+j)))\n",
    "\n",
    "        layout = QVBoxLayout()\n",
    "        layout.addWidget(self.tableWidget)\n",
    "        self.setLayout(layout)\n",
    "\n",
    "        self.setWindowTitle('QTableWidget')\n",
    "        self.setGeometry(300, 100, 600, 400)\n",
    "        self.show()\n",
    "\n",
    "\n",
    "if __name__ == '__main__':\n",
    "    app = QApplication(sys.argv)\n",
    "    ex = MyApp()\n",
    "    sys.exit(app.exec_())"
   ]
  },
  {
   "cell_type": "markdown",
   "id": "739c27e3",
   "metadata": {},
   "source": [
    "# QInputDialog"
   ]
  },
  {
   "cell_type": "code",
   "execution_count": 1,
   "id": "3a2ce592",
   "metadata": {},
   "outputs": [
    {
     "ename": "SystemExit",
     "evalue": "0",
     "output_type": "error",
     "traceback": [
      "An exception has occurred, use %tb to see the full traceback.\n",
      "\u001b[1;31mSystemExit\u001b[0m\u001b[1;31m:\u001b[0m 0\n"
     ]
    },
    {
     "name": "stderr",
     "output_type": "stream",
     "text": [
      "C:\\Users\\cltn2\\anaconda3\\envs\\label\\lib\\site-packages\\IPython\\core\\interactiveshell.py:3351: UserWarning: To exit: use 'exit', 'quit', or Ctrl-D.\n",
      "  warn(\"To exit: use 'exit', 'quit', or Ctrl-D.\", stacklevel=1)\n"
     ]
    }
   ],
   "source": [
    "import sys\n",
    "from PyQt5.QtWidgets import (QApplication, QWidget, QPushButton, QLineEdit, QInputDialog)\n",
    "\n",
    "\n",
    "class MyApp(QWidget):\n",
    "\n",
    "    def __init__(self):\n",
    "        super().__init__()\n",
    "        self.initUI()\n",
    "\n",
    "    def initUI(self):\n",
    "        self.btn = QPushButton('Dialog', self)\n",
    "        self.btn.move(30, 30)\n",
    "        self.btn.clicked.connect(self.showDialog)\n",
    "\n",
    "        self.le = QLineEdit(self)\n",
    "        self.le.move(120, 35)\n",
    "\n",
    "        self.setWindowTitle('Input dialog')\n",
    "        self.setGeometry(300, 300, 300, 200)\n",
    "        self.show()\n",
    "\n",
    "    def showDialog(self):\n",
    "        text, ok = QInputDialog.getText(self, 'Input Dialog', 'Enter your name:')\n",
    "\n",
    "        if ok:\n",
    "            self.le.setText(str(text))\n",
    "\n",
    "\n",
    "if __name__ == '__main__':\n",
    "    app = QApplication(sys.argv)\n",
    "    ex = MyApp()\n",
    "    sys.exit(app.exec_())"
   ]
  },
  {
   "cell_type": "markdown",
   "id": "4eeba78d",
   "metadata": {},
   "source": [
    "# QColorDialog"
   ]
  },
  {
   "cell_type": "code",
   "execution_count": 1,
   "id": "ab9557ec",
   "metadata": {},
   "outputs": [
    {
     "ename": "SystemExit",
     "evalue": "0",
     "output_type": "error",
     "traceback": [
      "An exception has occurred, use %tb to see the full traceback.\n",
      "\u001b[1;31mSystemExit\u001b[0m\u001b[1;31m:\u001b[0m 0\n"
     ]
    },
    {
     "name": "stderr",
     "output_type": "stream",
     "text": [
      "C:\\Users\\cltn2\\anaconda3\\envs\\label\\lib\\site-packages\\IPython\\core\\interactiveshell.py:3351: UserWarning: To exit: use 'exit', 'quit', or Ctrl-D.\n",
      "  warn(\"To exit: use 'exit', 'quit', or Ctrl-D.\", stacklevel=1)\n"
     ]
    }
   ],
   "source": [
    "import sys\n",
    "from PyQt5.QtWidgets import QApplication, QWidget, QPushButton, QFrame, QColorDialog\n",
    "from PyQt5.QtGui import QColor\n",
    "\n",
    "\n",
    "class MyApp(QWidget):\n",
    "\n",
    "    def __init__(self):\n",
    "        super().__init__()\n",
    "        self.initUI()\n",
    "\n",
    "    def initUI(self):\n",
    "        col = QColor(0, 0, 0)\n",
    "\n",
    "        self.btn = QPushButton('Dialog', self)\n",
    "        self.btn.move(30, 30)\n",
    "        self.btn.clicked.connect(self.showDialog)\n",
    "\n",
    "        self.frm = QFrame(self)\n",
    "        self.frm.setStyleSheet('QWidget { background-color: %s }' % col.name())\n",
    "        self.frm.setGeometry(130, 35, 100, 100)\n",
    "\n",
    "        self.setWindowTitle('Color Dialog')\n",
    "        self.setGeometry(300, 300, 250, 180)\n",
    "        self.show()\n",
    "\n",
    "    def showDialog(self):\n",
    "        col = QColorDialog.getColor()\n",
    "\n",
    "        if col.isValid():\n",
    "            self.frm.setStyleSheet('QWidget { background-color: %s }' % col.name())\n",
    "\n",
    "\n",
    "if __name__ == '__main__':\n",
    "    app = QApplication(sys.argv)\n",
    "    ex = MyApp()\n",
    "    sys.exit(app.exec_())"
   ]
  },
  {
   "cell_type": "markdown",
   "id": "b4d33e3c",
   "metadata": {},
   "source": [
    "# QFontDialog"
   ]
  },
  {
   "cell_type": "code",
   "execution_count": 1,
   "id": "5810fb30",
   "metadata": {},
   "outputs": [
    {
     "ename": "SystemExit",
     "evalue": "0",
     "output_type": "error",
     "traceback": [
      "An exception has occurred, use %tb to see the full traceback.\n",
      "\u001b[1;31mSystemExit\u001b[0m\u001b[1;31m:\u001b[0m 0\n"
     ]
    },
    {
     "name": "stderr",
     "output_type": "stream",
     "text": [
      "C:\\Users\\cltn2\\anaconda3\\envs\\label\\lib\\site-packages\\IPython\\core\\interactiveshell.py:3351: UserWarning: To exit: use 'exit', 'quit', or Ctrl-D.\n",
      "  warn(\"To exit: use 'exit', 'quit', or Ctrl-D.\", stacklevel=1)\n"
     ]
    }
   ],
   "source": [
    "import sys\n",
    "from PyQt5.QtWidgets import (QApplication, QWidget, QVBoxLayout\n",
    ", QPushButton, QSizePolicy, QLabel, QFontDialog)\n",
    "\n",
    "\n",
    "class MyApp(QWidget):\n",
    "\n",
    "    def __init__(self):\n",
    "        super().__init__()\n",
    "        self.initUI()\n",
    "\n",
    "    def initUI(self):\n",
    "        btn = QPushButton('Dialog', self)\n",
    "        btn.setSizePolicy(QSizePolicy.Fixed, QSizePolicy.Fixed)\n",
    "        btn.move(20, 20)\n",
    "        btn.clicked.connect(self.showDialog)\n",
    "\n",
    "        vbox = QVBoxLayout()\n",
    "        vbox.addWidget(btn)\n",
    "\n",
    "        self.lbl = QLabel('The quick brown fox jumps over the lazy dog', self)\n",
    "        self.lbl.move(130, 20)\n",
    "\n",
    "        vbox.addWidget(self.lbl)\n",
    "        self.setLayout(vbox)\n",
    "\n",
    "        self.setWindowTitle('Font Dialog')\n",
    "        self.setGeometry(300, 300, 250, 180)\n",
    "        self.show()\n",
    "\n",
    "    def showDialog(self):\n",
    "        font, ok = QFontDialog.getFont()\n",
    "\n",
    "        if ok:\n",
    "           self.lbl.setFont(font)\n",
    "\n",
    "\n",
    "if __name__ == '__main__':\n",
    "    app = QApplication(sys.argv)\n",
    "    ex = MyApp()\n",
    "    sys.exit(app.exec_())"
   ]
  },
  {
   "cell_type": "markdown",
   "id": "7a8ca862",
   "metadata": {},
   "source": [
    "# QFileDialog"
   ]
  },
  {
   "cell_type": "code",
   "execution_count": 1,
   "id": "fa0ba044",
   "metadata": {},
   "outputs": [
    {
     "ename": "UnicodeDecodeError",
     "evalue": "'cp949' codec can't decode byte 0xbd in position 110: illegal multibyte sequence",
     "output_type": "error",
     "traceback": [
      "\u001b[1;31m---------------------------------------------------------------------------\u001b[0m",
      "\u001b[1;31mUnicodeDecodeError\u001b[0m                        Traceback (most recent call last)",
      "\u001b[1;32m<ipython-input-1-3e4147fbde72>\u001b[0m in \u001b[0;36mshowDialog\u001b[1;34m(self)\u001b[0m\n\u001b[0;32m     36\u001b[0m \u001b[1;33m\u001b[0m\u001b[0m\n\u001b[0;32m     37\u001b[0m             \u001b[1;32mwith\u001b[0m \u001b[0mf\u001b[0m\u001b[1;33m:\u001b[0m\u001b[1;33m\u001b[0m\u001b[1;33m\u001b[0m\u001b[0m\n\u001b[1;32m---> 38\u001b[1;33m                 \u001b[0mdata\u001b[0m \u001b[1;33m=\u001b[0m \u001b[0mf\u001b[0m\u001b[1;33m.\u001b[0m\u001b[0mread\u001b[0m\u001b[1;33m(\u001b[0m\u001b[1;33m)\u001b[0m\u001b[1;33m\u001b[0m\u001b[1;33m\u001b[0m\u001b[0m\n\u001b[0m\u001b[0;32m     39\u001b[0m                 \u001b[0mself\u001b[0m\u001b[1;33m.\u001b[0m\u001b[0mtextEdit\u001b[0m\u001b[1;33m.\u001b[0m\u001b[0msetText\u001b[0m\u001b[1;33m(\u001b[0m\u001b[0mdata\u001b[0m\u001b[1;33m)\u001b[0m\u001b[1;33m\u001b[0m\u001b[1;33m\u001b[0m\u001b[0m\n\u001b[0;32m     40\u001b[0m \u001b[1;33m\u001b[0m\u001b[0m\n",
      "\u001b[1;31mUnicodeDecodeError\u001b[0m: 'cp949' codec can't decode byte 0xbd in position 110: illegal multibyte sequence"
     ]
    },
    {
     "ename": "SystemExit",
     "evalue": "0",
     "output_type": "error",
     "traceback": [
      "An exception has occurred, use %tb to see the full traceback.\n",
      "\u001b[1;31mSystemExit\u001b[0m\u001b[1;31m:\u001b[0m 0\n"
     ]
    },
    {
     "name": "stderr",
     "output_type": "stream",
     "text": [
      "C:\\Users\\cltn2\\anaconda3\\envs\\label\\lib\\site-packages\\IPython\\core\\interactiveshell.py:3351: UserWarning: To exit: use 'exit', 'quit', or Ctrl-D.\n",
      "  warn(\"To exit: use 'exit', 'quit', or Ctrl-D.\", stacklevel=1)\n"
     ]
    }
   ],
   "source": [
    "import sys\n",
    "from PyQt5.QtWidgets import QApplication, QMainWindow, QTextEdit, QAction, QFileDialog\n",
    "from PyQt5.QtGui import QIcon\n",
    "\n",
    "\n",
    "class MyApp(QMainWindow):\n",
    "\n",
    "    def __init__(self):\n",
    "        super().__init__()\n",
    "        self.initUI()\n",
    "\n",
    "    def initUI(self):\n",
    "        self.textEdit = QTextEdit()\n",
    "        self.setCentralWidget(self.textEdit)\n",
    "        self.statusBar()\n",
    "\n",
    "        openFile = QAction(QIcon('open.png'), 'Open', self)\n",
    "        openFile.setShortcut('Ctrl+O')\n",
    "        openFile.setStatusTip('Open New File')\n",
    "        openFile.triggered.connect(self.showDialog)\n",
    "\n",
    "        menubar = self.menuBar()\n",
    "        menubar.setNativeMenuBar(False)\n",
    "        fileMenu = menubar.addMenu('&File')\n",
    "        fileMenu.addAction(openFile)\n",
    "\n",
    "        self.setWindowTitle('File Dialog')\n",
    "        self.setGeometry(300, 300, 300, 200)\n",
    "        self.show()\n",
    "\n",
    "    def showDialog(self):\n",
    "        fname = QFileDialog.getOpenFileName(self, 'Open file', './')\n",
    "\n",
    "        if fname[0]:\n",
    "            f = open(fname[0], 'r')\n",
    "\n",
    "            with f:\n",
    "                data = f.read()\n",
    "                self.textEdit.setText(data)\n",
    "\n",
    "\n",
    "if __name__ == '__main__':\n",
    "    app = QApplication(sys.argv)\n",
    "    ex = MyApp()\n",
    "    sys.exit(app.exec_())"
   ]
  },
  {
   "cell_type": "markdown",
   "id": "ac8fcaae",
   "metadata": {},
   "source": [
    "# QMessageBox"
   ]
  },
  {
   "cell_type": "code",
   "execution_count": 1,
   "id": "6e7cfebc",
   "metadata": {},
   "outputs": [
    {
     "ename": "SystemExit",
     "evalue": "0",
     "output_type": "error",
     "traceback": [
      "An exception has occurred, use %tb to see the full traceback.\n",
      "\u001b[1;31mSystemExit\u001b[0m\u001b[1;31m:\u001b[0m 0\n"
     ]
    },
    {
     "name": "stderr",
     "output_type": "stream",
     "text": [
      "C:\\Users\\cltn2\\anaconda3\\envs\\label\\lib\\site-packages\\IPython\\core\\interactiveshell.py:3351: UserWarning: To exit: use 'exit', 'quit', or Ctrl-D.\n",
      "  warn(\"To exit: use 'exit', 'quit', or Ctrl-D.\", stacklevel=1)\n"
     ]
    }
   ],
   "source": [
    "import sys\n",
    "from PyQt5.QtWidgets import QApplication, QWidget, QMessageBox\n",
    "\n",
    "\n",
    "class MyApp(QWidget):\n",
    "\n",
    "    def __init__(self):\n",
    "        super().__init__()\n",
    "        self.initUI()\n",
    "\n",
    "    def initUI(self):\n",
    "        self.setWindowTitle('QMessageBox')\n",
    "        self.setGeometry(300, 300, 300, 200)\n",
    "        self.show()\n",
    "\n",
    "    def closeEvent(self, event):\n",
    "        reply = QMessageBox.question(self, 'Message', 'Are you sure to quit?',\n",
    "                                    QMessageBox.Yes | QMessageBox.No, QMessageBox.No)\n",
    "\n",
    "        if reply == QMessageBox.Yes:\n",
    "            event.accept()\n",
    "        else:\n",
    "            event.ignore()\n",
    "\n",
    "\n",
    "if __name__ == '__main__':\n",
    "   app = QApplication(sys.argv)\n",
    "   ex = MyApp()\n",
    "   sys.exit(app.exec_())"
   ]
  },
  {
   "cell_type": "markdown",
   "id": "25e219d1",
   "metadata": {},
   "source": [
    "# 시그널과 슬롯 연결하기"
   ]
  },
  {
   "cell_type": "code",
   "execution_count": 1,
   "id": "f4591f87",
   "metadata": {},
   "outputs": [
    {
     "ename": "SystemExit",
     "evalue": "0",
     "output_type": "error",
     "traceback": [
      "An exception has occurred, use %tb to see the full traceback.\n",
      "\u001b[1;31mSystemExit\u001b[0m\u001b[1;31m:\u001b[0m 0\n"
     ]
    },
    {
     "name": "stderr",
     "output_type": "stream",
     "text": [
      "C:\\Users\\cltn2\\anaconda3\\envs\\label\\lib\\site-packages\\IPython\\core\\interactiveshell.py:3351: UserWarning: To exit: use 'exit', 'quit', or Ctrl-D.\n",
      "  warn(\"To exit: use 'exit', 'quit', or Ctrl-D.\", stacklevel=1)\n"
     ]
    }
   ],
   "source": [
    "import sys\n",
    "from PyQt5.QtWidgets import QApplication, QWidget, QLCDNumber, QDial, QVBoxLayout\n",
    "\n",
    "\n",
    "class MyApp(QWidget):\n",
    "\n",
    "    def __init__(self):\n",
    "        super().__init__()\n",
    "        self.initUI()\n",
    "\n",
    "    def initUI(self):\n",
    "        lcd = QLCDNumber(self)\n",
    "        dial = QDial(self)\n",
    "\n",
    "        vbox = QVBoxLayout()\n",
    "        vbox.addWidget(lcd)\n",
    "        vbox.addWidget(dial)\n",
    "        self.setLayout(vbox)\n",
    "\n",
    "        dial.valueChanged.connect(lcd.display)\n",
    "\n",
    "        self.setWindowTitle('Signal and Slot')\n",
    "        self.setGeometry(300, 300, 200, 200)\n",
    "        self.show()\n",
    "\n",
    "\n",
    "if __name__ == '__main__':\n",
    "    app = QApplication(sys.argv)\n",
    "    ex = MyApp()\n",
    "    sys.exit(app.exec_())"
   ]
  },
  {
   "cell_type": "markdown",
   "id": "a4cd5b43",
   "metadata": {},
   "source": [
    "# 이벤트 랜들러 만들기(시그널과 슬롯)"
   ]
  },
  {
   "cell_type": "code",
   "execution_count": 1,
   "id": "03fd04a8",
   "metadata": {},
   "outputs": [
    {
     "ename": "SystemExit",
     "evalue": "0",
     "output_type": "error",
     "traceback": [
      "An exception has occurred, use %tb to see the full traceback.\n",
      "\u001b[1;31mSystemExit\u001b[0m\u001b[1;31m:\u001b[0m 0\n"
     ]
    },
    {
     "name": "stderr",
     "output_type": "stream",
     "text": [
      "C:\\Users\\cltn2\\anaconda3\\envs\\label\\lib\\site-packages\\IPython\\core\\interactiveshell.py:3351: UserWarning: To exit: use 'exit', 'quit', or Ctrl-D.\n",
      "  warn(\"To exit: use 'exit', 'quit', or Ctrl-D.\", stacklevel=1)\n"
     ]
    }
   ],
   "source": [
    "import sys\n",
    "from PyQt5.QtWidgets import (QApplication, QWidget\n",
    ", QLCDNumber, QDial, QPushButton, QVBoxLayout, QHBoxLayout)\n",
    "\n",
    "\n",
    "class MyApp(QWidget):\n",
    "\n",
    "    def __init__(self):\n",
    "        super().__init__()\n",
    "        self.initUI()\n",
    "\n",
    "    def initUI(self):\n",
    "        lcd = QLCDNumber(self)\n",
    "        dial = QDial(self)\n",
    "        btn1 = QPushButton('Big', self)\n",
    "        btn2 = QPushButton('Small', self)\n",
    "\n",
    "        hbox = QHBoxLayout()\n",
    "        hbox.addWidget(btn1)\n",
    "        hbox.addWidget(btn2)\n",
    "\n",
    "        vbox = QVBoxLayout()\n",
    "        vbox.addWidget(lcd)\n",
    "        vbox.addWidget(dial)\n",
    "        vbox.addLayout(hbox)\n",
    "        self.setLayout(vbox)\n",
    "\n",
    "        dial.valueChanged.connect(lcd.display)\n",
    "        btn1.clicked.connect(self.resizeBig)\n",
    "        btn2.clicked.connect(self.resizeSmall)\n",
    "\n",
    "        self.setWindowTitle('Signal and Slot')\n",
    "        self.setGeometry(200, 200, 200, 250)\n",
    "        self.show()\n",
    "\n",
    "    def resizeBig(self):\n",
    "        self.resize(400, 500)\n",
    "\n",
    "    def resizeSmall(self):\n",
    "        self.resize(200, 250)\n",
    "\n",
    "\n",
    "if __name__ == '__main__':\n",
    "    app = QApplication(sys.argv)\n",
    "    ex = MyApp()\n",
    "    sys.exit(app.exec_())"
   ]
  },
  {
   "cell_type": "markdown",
   "id": "e95bd2d8",
   "metadata": {},
   "source": [
    "# 이벤트 핸들러 재구성하기"
   ]
  },
  {
   "cell_type": "code",
   "execution_count": 1,
   "id": "049bfc0c",
   "metadata": {},
   "outputs": [
    {
     "ename": "SystemExit",
     "evalue": "0",
     "output_type": "error",
     "traceback": [
      "An exception has occurred, use %tb to see the full traceback.\n",
      "\u001b[1;31mSystemExit\u001b[0m\u001b[1;31m:\u001b[0m 0\n"
     ]
    },
    {
     "name": "stderr",
     "output_type": "stream",
     "text": [
      "C:\\Users\\cltn2\\anaconda3\\envs\\label\\lib\\site-packages\\IPython\\core\\interactiveshell.py:3351: UserWarning: To exit: use 'exit', 'quit', or Ctrl-D.\n",
      "  warn(\"To exit: use 'exit', 'quit', or Ctrl-D.\", stacklevel=1)\n"
     ]
    }
   ],
   "source": [
    "import sys\n",
    "from PyQt5.QtCore import Qt\n",
    "from PyQt5.QtWidgets import QApplication, QWidget\n",
    "\n",
    "\n",
    "class MyApp(QWidget):\n",
    "\n",
    "    def __init__(self):\n",
    "        super().__init__()\n",
    "        self.initUI()\n",
    "\n",
    "    def initUI(self):\n",
    "        self.setWindowTitle('Reimplementing event handler')\n",
    "        self.setGeometry(300, 300, 300, 200)\n",
    "        self.show()\n",
    "\n",
    "    def keyPressEvent(self, e):\n",
    "        if e.key() == Qt.Key_Escape:\n",
    "            self.close()\n",
    "        elif e.key() == Qt.Key_F:\n",
    "            self.showFullScreen()\n",
    "        elif e.key() == Qt.Key_N:\n",
    "            self.showNormal()\n",
    "\n",
    "\n",
    "if __name__ == '__main__':\n",
    "    app = QApplication(sys.argv)\n",
    "    ex = MyApp()\n",
    "    sys.exit(app.exec_())"
   ]
  },
  {
   "cell_type": "markdown",
   "id": "f05eba06",
   "metadata": {},
   "source": [
    "# 이벤트 핸들러 재구성하기2"
   ]
  },
  {
   "cell_type": "code",
   "execution_count": 1,
   "id": "b449693b",
   "metadata": {},
   "outputs": [
    {
     "ename": "SystemExit",
     "evalue": "0",
     "output_type": "error",
     "traceback": [
      "An exception has occurred, use %tb to see the full traceback.\n",
      "\u001b[1;31mSystemExit\u001b[0m\u001b[1;31m:\u001b[0m 0\n"
     ]
    },
    {
     "name": "stderr",
     "output_type": "stream",
     "text": [
      "C:\\Users\\cltn2\\anaconda3\\envs\\label\\lib\\site-packages\\IPython\\core\\interactiveshell.py:3351: UserWarning: To exit: use 'exit', 'quit', or Ctrl-D.\n",
      "  warn(\"To exit: use 'exit', 'quit', or Ctrl-D.\", stacklevel=1)\n"
     ]
    }
   ],
   "source": [
    "import sys\n",
    "from PyQt5.QtWidgets import QApplication, QWidget, QLabel\n",
    "\n",
    "\n",
    "class MyApp(QWidget):\n",
    "\n",
    "    def __init__(self):\n",
    "        super().__init__()\n",
    "        self.initUI()\n",
    "\n",
    "    def initUI(self):\n",
    "        x = 0\n",
    "        y = 0\n",
    "\n",
    "        self.text = 'x: {0}, y: {1}'.format(x, y)\n",
    "        self.label = QLabel(self.text, self)\n",
    "        self.label.move(20, 20)\n",
    "\n",
    "        self.setMouseTracking(True)\n",
    "\n",
    "        self.setWindowTitle('Reimplementing event handler')\n",
    "        self.setGeometry(300, 300, 300, 200)\n",
    "        self.show()\n",
    "\n",
    "    def mouseMoveEvent(self, e):\n",
    "        x = e.x()\n",
    "        y = e.y()\n",
    "\n",
    "        text = 'x: {0}, y: {1}'.format(x, y)\n",
    "        self.label.setText(text)\n",
    "        self.label.adjustSize()\n",
    "\n",
    "\n",
    "if __name__ == '__main__':\n",
    "    app = QApplication(sys.argv)\n",
    "    ex = MyApp()\n",
    "    sys.exit(app.exec_())"
   ]
  },
  {
   "cell_type": "markdown",
   "id": "d587fbf0",
   "metadata": {},
   "source": [
    "# 사용자 정의 시그널"
   ]
  },
  {
   "cell_type": "code",
   "execution_count": 1,
   "id": "22bf8462",
   "metadata": {},
   "outputs": [
    {
     "ename": "SystemExit",
     "evalue": "0",
     "output_type": "error",
     "traceback": [
      "An exception has occurred, use %tb to see the full traceback.\n",
      "\u001b[1;31mSystemExit\u001b[0m\u001b[1;31m:\u001b[0m 0\n"
     ]
    },
    {
     "name": "stderr",
     "output_type": "stream",
     "text": [
      "C:\\Users\\cltn2\\anaconda3\\envs\\label\\lib\\site-packages\\IPython\\core\\interactiveshell.py:3351: UserWarning: To exit: use 'exit', 'quit', or Ctrl-D.\n",
      "  warn(\"To exit: use 'exit', 'quit', or Ctrl-D.\", stacklevel=1)\n"
     ]
    }
   ],
   "source": [
    "import sys\n",
    "from PyQt5.QtCore import pyqtSignal, QObject\n",
    "from PyQt5.QtWidgets import QApplication, QMainWindow\n",
    "\n",
    "\n",
    "class Communicate(QObject):\n",
    "\n",
    "    closeApp = pyqtSignal()\n",
    "\n",
    "\n",
    "class MyApp(QMainWindow):\n",
    "\n",
    "    def __init__(self):\n",
    "        super().__init__()\n",
    "        self.initUI()\n",
    "\n",
    "    def initUI(self):\n",
    "        self.c = Communicate()\n",
    "        self.c.closeApp.connect(self.close)\n",
    "\n",
    "        self.setWindowTitle('Emitting Signal')\n",
    "        self.setGeometry(300, 300, 300, 200)\n",
    "        self.show()\n",
    "\n",
    "    def mousePressEvent(self, e):\n",
    "        self.c.closeApp.emit()\n",
    "\n",
    "\n",
    "if __name__ == '__main__':\n",
    "    app = QApplication(sys.argv)\n",
    "    ex = MyApp()\n",
    "    sys.exit(app.exec_())"
   ]
  },
  {
   "cell_type": "markdown",
   "id": "77e0b507",
   "metadata": {},
   "source": [
    "# 점 그리기"
   ]
  },
  {
   "cell_type": "code",
   "execution_count": 1,
   "id": "f3fae906",
   "metadata": {},
   "outputs": [
    {
     "ename": "SystemExit",
     "evalue": "0",
     "output_type": "error",
     "traceback": [
      "An exception has occurred, use %tb to see the full traceback.\n",
      "\u001b[1;31mSystemExit\u001b[0m\u001b[1;31m:\u001b[0m 0\n"
     ]
    },
    {
     "name": "stderr",
     "output_type": "stream",
     "text": [
      "C:\\Users\\cltn2\\anaconda3\\envs\\label\\lib\\site-packages\\IPython\\core\\interactiveshell.py:3351: UserWarning: To exit: use 'exit', 'quit', or Ctrl-D.\n",
      "  warn(\"To exit: use 'exit', 'quit', or Ctrl-D.\", stacklevel=1)\n"
     ]
    }
   ],
   "source": [
    "import sys\n",
    "from PyQt5.QtWidgets import QWidget, QApplication\n",
    "from PyQt5.QtGui import QPainter, QPen\n",
    "from PyQt5.QtCore import Qt\n",
    "\n",
    "\n",
    "class MyApp(QWidget):\n",
    "\n",
    "    def __init__(self):\n",
    "        super().__init__()\n",
    "        self.initUI()\n",
    "\n",
    "    def initUI(self):\n",
    "        self.setGeometry(300, 300, 400, 300)\n",
    "        self.setWindowTitle('Points')\n",
    "        self.show()\n",
    "\n",
    "    def paintEvent(self, e):\n",
    "        qp = QPainter()\n",
    "        qp.begin(self)\n",
    "        self.draw_point(qp)\n",
    "        qp.end()\n",
    "\n",
    "    def draw_point(self, qp):\n",
    "        qp.setPen(QPen(Qt.blue,  8))\n",
    "        qp.drawPoint(self.width()/2, self.height()/2)\n",
    "\n",
    "\n",
    "if __name__ == '__main__':\n",
    "    app = QApplication(sys.argv)\n",
    "    ex = MyApp()\n",
    "    sys.exit(app.exec_())"
   ]
  },
  {
   "cell_type": "code",
   "execution_count": 1,
   "id": "af2e39ce",
   "metadata": {},
   "outputs": [
    {
     "ename": "SystemExit",
     "evalue": "0",
     "output_type": "error",
     "traceback": [
      "An exception has occurred, use %tb to see the full traceback.\n",
      "\u001b[1;31mSystemExit\u001b[0m\u001b[1;31m:\u001b[0m 0\n"
     ]
    },
    {
     "name": "stderr",
     "output_type": "stream",
     "text": [
      "C:\\Users\\cltn2\\anaconda3\\envs\\label\\lib\\site-packages\\IPython\\core\\interactiveshell.py:3351: UserWarning: To exit: use 'exit', 'quit', or Ctrl-D.\n",
      "  warn(\"To exit: use 'exit', 'quit', or Ctrl-D.\", stacklevel=1)\n"
     ]
    }
   ],
   "source": [
    "import sys\n",
    "from PyQt5.QtWidgets import QWidget, QApplication\n",
    "from PyQt5.QtGui import QPainter, QPen, QColor\n",
    "import numpy as np\n",
    "\n",
    "\n",
    "class MyApp(QWidget):\n",
    "\n",
    "    def __init__(self):\n",
    "        super().__init__()\n",
    "        self.initUI()\n",
    "\n",
    "    def initUI(self):\n",
    "        self.setGeometry(300, 300, 400, 300)\n",
    "        self.setWindowTitle('drawPoint')\n",
    "        self.show()\n",
    "\n",
    "    def paintEvent(self, e):\n",
    "        qp = QPainter()\n",
    "        qp.begin(self)\n",
    "        self.draw_point(qp)\n",
    "        qp.end()\n",
    "\n",
    "    def draw_point(self, qp):\n",
    "        pen = QPen()\n",
    "        colors = ['#D83C5F', '#3CD88F', '#AA5CE3',\n",
    "                  '#DF4A26', '#AE85F6', '#F7A82E',\n",
    "                  '#406CF3', '#E9F229', '#29ACF2']\n",
    "        for i in range(1000):\n",
    "            pen.setWidth(np.random.randint(1, 15))\n",
    "            pen.setColor(QColor(np.random.choice(colors)))\n",
    "            qp.setPen(pen)\n",
    "            rand_x = 100 * np.random.randn()\n",
    "            rand_y = 100 * np.random.randn()\n",
    "            qp.drawPoint(self.width() / 2 + rand_x, self.height() / 2 + rand_y)\n",
    "\n",
    "\n",
    "if __name__ == '__main__':\n",
    "    app = QApplication(sys.argv)\n",
    "    ex = MyApp()\n",
    "    sys.exit(app.exec_())"
   ]
  },
  {
   "cell_type": "markdown",
   "id": "b062edc8",
   "metadata": {},
   "source": [
    "# 직선 그리기"
   ]
  },
  {
   "cell_type": "code",
   "execution_count": null,
   "id": "4039f9a8",
   "metadata": {},
   "outputs": [],
   "source": [
    "import sys\n",
    "from PyQt5.QtWidgets import QWidget, QApplication\n",
    "from PyQt5.QtGui import QPainter, QPen\n",
    "from PyQt5.QtCore import Qt\n",
    "\n",
    "\n",
    "class MyApp(QWidget):\n",
    "\n",
    "    def __init__(self):\n",
    "        super().__init__()\n",
    "        self.initUI()\n",
    "\n",
    "    def initUI(self):\n",
    "        self.setGeometry(300, 300, 400, 300)\n",
    "        self.setWindowTitle('drawLine')\n",
    "        self.show()\n",
    "\n",
    "    def paintEvent(self, e):\n",
    "        qp = QPainter()\n",
    "        qp.begin(self)\n",
    "        self.draw_line(qp)\n",
    "        qp.end()\n",
    "\n",
    "    def draw_line(self, qp):\n",
    "        qp.setPen(QPen(Qt.blue, 8))\n",
    "        qp.drawLine(30, 230, 200, 50)\n",
    "        qp.setPen(QPen(Qt.green, 12))\n",
    "        qp.drawLine(140, 60, 320, 280)\n",
    "        qp.setPen(QPen(Qt.red, 16))\n",
    "        qp.drawLine(330, 250, 40, 190)\n",
    "\n",
    "\n",
    "if __name__ == '__main__':\n",
    "    app = QApplication(sys.argv)\n",
    "    ex = MyApp()\n",
    "    sys.exit(app.exec_())"
   ]
  },
  {
   "cell_type": "markdown",
   "id": "ab375a5e",
   "metadata": {},
   "source": [
    "# 직사각형 그리기"
   ]
  },
  {
   "cell_type": "code",
   "execution_count": 1,
   "id": "ad43ccf6",
   "metadata": {},
   "outputs": [
    {
     "ename": "SystemExit",
     "evalue": "0",
     "output_type": "error",
     "traceback": [
      "An exception has occurred, use %tb to see the full traceback.\n",
      "\u001b[1;31mSystemExit\u001b[0m\u001b[1;31m:\u001b[0m 0\n"
     ]
    },
    {
     "name": "stderr",
     "output_type": "stream",
     "text": [
      "C:\\Users\\cltn2\\anaconda3\\envs\\label\\lib\\site-packages\\IPython\\core\\interactiveshell.py:3351: UserWarning: To exit: use 'exit', 'quit', or Ctrl-D.\n",
      "  warn(\"To exit: use 'exit', 'quit', or Ctrl-D.\", stacklevel=1)\n"
     ]
    }
   ],
   "source": [
    "import sys\n",
    "from PyQt5.QtWidgets import QWidget, QApplication\n",
    "from PyQt5.QtGui import QPainter, QPen, QColor, QBrush\n",
    "from PyQt5.QtCore import Qt\n",
    "\n",
    "\n",
    "class MyApp(QWidget):\n",
    "\n",
    "    def __init__(self):\n",
    "        super().__init__()\n",
    "        self.initUI()\n",
    "\n",
    "    def initUI(self):\n",
    "        self.setGeometry(300, 300, 400, 300)\n",
    "        self.setWindowTitle('drawRect')\n",
    "        self.show()\n",
    "\n",
    "    def paintEvent(self, e):\n",
    "        qp = QPainter()\n",
    "        qp.begin(self)\n",
    "        self.draw_rect(qp)\n",
    "        qp.end()\n",
    "\n",
    "    def draw_rect(self, qp):\n",
    "        qp.setBrush(QColor(180, 100, 160))\n",
    "        qp.setPen(QPen(QColor(60, 60, 60), 3))\n",
    "        qp.drawRect(20, 20, 100, 100)\n",
    "\n",
    "        qp.setBrush(QColor(40, 150, 20))\n",
    "        qp.setPen(QPen(Qt.blue, 2))\n",
    "        qp.drawRect(180, 120, 50, 120)\n",
    "\n",
    "        qp.setBrush(Qt.yellow)\n",
    "        qp.setPen(QPen(Qt.red, 5))\n",
    "        qp.drawRect(280, 30, 80, 40)\n",
    "\n",
    "\n",
    "if __name__ == '__main__':\n",
    "    app = QApplication(sys.argv)\n",
    "    ex = MyApp()\n",
    "    sys.exit(app.exec_())"
   ]
  },
  {
   "cell_type": "code",
   "execution_count": null,
   "id": "d62f513d",
   "metadata": {},
   "outputs": [],
   "source": []
  }
 ],
 "metadata": {
  "kernelspec": {
   "display_name": "label",
   "language": "python",
   "name": "label"
  },
  "language_info": {
   "codemirror_mode": {
    "name": "ipython",
    "version": 3
   },
   "file_extension": ".py",
   "mimetype": "text/x-python",
   "name": "python",
   "nbconvert_exporter": "python",
   "pygments_lexer": "ipython3",
   "version": "3.6.13"
  }
 },
 "nbformat": 4,
 "nbformat_minor": 5
}
